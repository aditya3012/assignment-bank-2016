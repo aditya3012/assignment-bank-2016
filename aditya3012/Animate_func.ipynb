{
 "cells": [
  {
   "cell_type": "code",
   "execution_count": 6,
   "metadata": {
    "collapsed": false
   },
   "outputs": [
    {
     "data": {
      "text/plain": [
       "<matplotlib.figure.Figure at 0x7f29a7f022e8>"
      ]
     },
     "metadata": {},
     "output_type": "display_data"
    }
   ],
   "source": [
    "import numpy\n",
    "from matplotlib import pyplot\n",
    "import math\n",
    "%matplotlib inline\n",
    "from matplotlib import rcParams\n",
    "rcParams['font.family'] = 'serif'\n",
    "rcParams['font.size'] =16\n",
    "\n",
    "from matplotlib import animation\n",
    "from IPython.display import HTML\n",
    "\n",
    "fig = pyplot.figure(figsize=(8,6))\n",
    "nt= 150"
   ]
  },
  {
   "cell_type": "code",
   "execution_count": 7,
   "metadata": {
    "collapsed": false
   },
   "outputs": [],
   "source": [
    "def CatchtheFisherwaveanimate(n):\n",
    "    dt =0.0001\n",
    "    un= numpy.zeros_like(u)\n",
    "    for n in range (nt):\n",
    "        un= numpy.copy(u)\n",
    "        u[1:-1] = un[1:-1] \\\n",
    "                + D * dt/dx**2 * (un[2:] - 2*un[1:-1] + un[0:-2]) \\\n",
    "                + alpha * un[1:-1] * dt * (1 - un[1:-1])\n",
    "                \n",
    "        u[0] = u[1] \n",
    "        u[-1] = u[-2]\n",
    "        line.set_data(x,u)\n",
    "anim = animation.FuncAnimation(fig,CatchtheFisherwaveanimate,\\\n",
    "                               frames=nt,interval=60)"
   ]
  },
  {
   "cell_type": "code",
   "execution_count": null,
   "metadata": {
    "collapsed": true
   },
   "outputs": [],
   "source": []
  }
 ],
 "metadata": {
  "kernelspec": {
   "display_name": "Python [default]",
   "language": "python",
   "name": "python3"
  },
  "language_info": {
   "codemirror_mode": {
    "name": "ipython",
    "version": 3
   },
   "file_extension": ".py",
   "mimetype": "text/x-python",
   "name": "python",
   "nbconvert_exporter": "python",
   "pygments_lexer": "ipython3",
   "version": "3.5.2"
  }
 },
 "nbformat": 4,
 "nbformat_minor": 1
}
