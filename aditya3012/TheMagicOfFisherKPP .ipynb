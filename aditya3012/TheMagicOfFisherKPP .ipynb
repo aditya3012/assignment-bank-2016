{
 "cells": [
  {
   "cell_type": "markdown",
   "metadata": {},
   "source": [
    "###### Content under Creative Commons Attribution license CC-BY 4.0, code under MIT license (c)2016 A.A. Kulkarni"
   ]
  },
  {
   "cell_type": "markdown",
   "metadata": {
    "collapsed": true
   },
   "source": [
    "## \"We need to be appreciated more than ever\" - PDE's"
   ]
  },
  {
   "cell_type": "markdown",
   "metadata": {},
   "source": [
    "   Some may say our prevalence and importance is only to the world of engineering and physics. But have you lately checked out the advances in [biology](https://www.birs.ca/workshops/2015/15w5072/report15w5072.pdf), [economics](http://www.princeton.edu/~moll/PDE_macro.pdf) and real-time stock trading?\n",
    "<img style=\"float: right;\" src=\"tumblr_why.jpg\" width=\"350\" height=\"300\" >\n",
    "\n",
    "Engineers working on a new Bentley, analysts crunching numbers at the New York stock exchange to scientists studying motion of miniscule droplets on a leaf to the formation of gigantic galaxies all rely on PDE's. \n",
    "\n",
    "\n",
    "To romanticize this importance, PDE's can be thought of links between our understanding and things that happen in universe.\n",
    "\n",
    "Credit to Dr Barba and her group, we have had fun with some interesting ordinary and partial differential equations. Right from Module 1 the wheels in our head are turning, and to keep up with that, I asked myself a question, \n",
    "\n",
    "\n",
    "\n",
    "\n",
    "\n"
   ]
  },
  {
   "cell_type": "markdown",
   "metadata": {},
   "source": [
    "#### *** Is there a equation which is at the forefront of not one but many distinct fields? ***"
   ]
  },
  {
   "cell_type": "markdown",
   "metadata": {},
   "source": [
    "## Hello Fisher Kolmogorov equation!"
   ]
  },
  {
   "cell_type": "markdown",
   "metadata": {},
   "source": [
    "A non-linear reaction-diffusion equation by nature, its use can be seen from the fields of ecology, combustion, crystallization, plasma and adavantageous gene travel [1].\n",
    "$$ \\frac {\\partial u}{\\partial t} - D \\frac{\\partial^2 u}{\\partial^2 x} = f(u)$$\n",
    "Let's take a look at what the equation is built up of,\n",
    "\n",
    "1. It's a 2nd order in space\n",
    "2. It's a 1st order in time\n",
    "3. Composed of one non-linear term\n"
   ]
  },
  {
   "cell_type": "code",
   "execution_count": 1,
   "metadata": {
    "collapsed": false
   },
   "outputs": [],
   "source": [
    "import numpy\n",
    "from matplotlib import pyplot\n",
    "import math\n",
    "%matplotlib inline\n",
    "from matplotlib import rcParams\n",
    "rcParams['font.family'] = 'serif'\n",
    "rcParams['font.size'] =16\n",
    "\n",
    "from matplotlib import animation\n",
    "from IPython.display import HTML"
   ]
  },
  {
   "cell_type": "markdown",
   "metadata": {},
   "source": [
    "$$ u_t =u_{xx} + 6u(1-u)$$  \n",
    "** Lets look at the initial and boundary conditions, **\n",
    "\n",
    "$$ u_o(x)  = \\frac{1}{2} \\tanh(x) + \\frac{1}{2}$$\n",
    "\n",
    "$$ u(x,0) = u_o$$\n",
    "\n",
    "** and the boundary condition is **\n",
    "\n",
    "$$ \\frac {\\partial{u}}{ \\partial{n}} = 0 $$\n",
    "\n",
    "** Thus the discretized equation becomes,**\n",
    "$$ \\frac{u_i^{n+1} - u_i^{n}}{\\Delta t} = \\frac{u_{i+1}^{n} - 2u_i^{n} + u_{i-1}^n}{\\Delta x^2} + \\alpha u_i^n(1-u_i^n)$$\n",
    "\n",
    "So now we already have one inital condition, thus the only unknown is $u_i^{n+1} $ and re-arranging the above equation to get this term on the LHS, we get\n",
    "\n",
    "$$ u_i^{n+1} = \\frac{\\Delta t }{\\Delta x^2} (u_{i+1}^{n} - 2u_i^{n} + u_{i-1}^n) + \\Delta t \\alpha u_i^n(1-u_i^n) +u_i^n$$ "
   ]
  },
  {
   "cell_type": "code",
   "execution_count": 2,
   "metadata": {
    "collapsed": true
   },
   "outputs": [],
   "source": [
    "nx =101\n",
    "dx =0.1\n",
    "dt =0.001\n",
    "x = numpy.linspace(-10,10,nx)\n",
    "D =1\n",
    "alpha = 6\n",
    "\n",
    "u = numpy.zeros(nx)\n",
    "u = 1/2 * numpy.tanh(x) + 1/2               #Initial waveform"
   ]
  },
  {
   "cell_type": "code",
   "execution_count": 3,
   "metadata": {
    "collapsed": true
   },
   "outputs": [],
   "source": [
    "def CatchtheFisherwave(u,nt,dt,dx):\n",
    "    \n",
    "    \"\"\"Solve the linear convection equation.\n",
    "    \n",
    "    Solves the equation d_t u + c d_x u = 0 where \n",
    "    * the diffusion constant is set to 1\n",
    "    * the domain is x \\in [0, 10]\n",
    "    * 20 timesteps are taken, with \\Delta t = 0.1\n",
    "    * the initial data is described in above\n",
    "    \n",
    "    Parameters\n",
    "    ----------\n",
    "    u  : Initial waveform\n",
    "    nx : integer\n",
    "        number of internal grid points\n",
    "    dt : difference in each timestep\n",
    "    dx :\n",
    "        \n",
    "    Returns\n",
    "    -------\n",
    "    \n",
    "    \n",
    "    \"\"\"\n",
    "    \n",
    "    un= numpy.zeros_like(u)\n",
    "    u = 1/2 * numpy.tanh(x) + 1/2\n",
    "    for n in range (nt):\n",
    "        un= numpy.copy(u)\n",
    "        u[1:-1] = un[1:-1] \\\n",
    "                + D * dt/dx**2 * (un[2:] - 2*un[1:-1] + un[0:-2]) \\\n",
    "                + alpha * un[1:-1] * dt * (1 - un[1:-1])\n",
    "                \n",
    "        u[0] = u[1] \n",
    "        u[-1] = u[-2]\n",
    "        \n",
    "    return u"
   ]
  },
  {
   "cell_type": "code",
   "execution_count": 4,
   "metadata": {
    "collapsed": false
   },
   "outputs": [
    {
     "data": {
      "image/png": "[encoded data removed]",
      "text/plain": [
       "<matplotlib.figure.Figure at 0x7f6712344eb8>"
      ]
     },
     "metadata": {},
     "output_type": "display_data"
    }
   ],
   "source": [
    "u_1 = CatchtheFisherwave(u,100,dt,dx)       # Calling the function with nt=100\n",
    "u_2 = CatchtheFisherwave(u,250,dt,dx)       # Calling the function with nt=250\n",
    "u_3 = CatchtheFisherwave(u,500,dt,dx)       # Calling the function with nt=500\n",
    "u_4 = CatchtheFisherwave(u,1000,dt,dx)      # Calling the function with nt=1000\n",
    "u_5 = CatchtheFisherwave(u,1250,dt,dx)      # Calling the function with nt=1250\n",
    "u_final = CatchtheFisherwave(u,2000,dt,dx)  # Calling the function with nt=2000\n",
    "pyplot.figure(figsize=(8,5), dpi=100)\n",
    "pyplot.ylim(-0.5,1.5)\n",
    "pyplot.ylabel('u')\n",
    "pyplot.xlabel('x')\n",
    "pyplot.plot(x,u,x,u_1,x,u_2,x,u_3,x,u_4,x,u_5,x,u_final,lw=2)\n",
    "pyplot.show()"
   ]
  },
  {
   "cell_type": "code",
   "execution_count": 14,
   "metadata": {
    "collapsed": false
   },
   "outputs": [],
   "source": [
    "%%capture\n",
    "nt= 100\n",
    "u = 1/2 * numpy.tanh(x) + 1/2               #Initial waveform\n",
    "fig = pyplot.figure(figsize=(8,6))\n",
    "ax = pyplot.axes(xlim=(-10,10),ylim=(-0.5,1.5))\n",
    "line = ax.plot([],[],color='#003366',ls='--',lw=3)[0]"
   ]
  },
  {
   "cell_type": "code",
   "execution_count": 17,
   "metadata": {
    "collapsed": false
   },
   "outputs": [],
   "source": [
    "def CatchtheFisherwaveanimate(n):\n",
    "    \n",
    "    \n",
    "    un= numpy.zeros_like(u)\n",
    "    for n in range (nt):\n",
    "        un= numpy.copy(u)\n",
    "        u[1:-1] = un[1:-1] \\\n",
    "                + D * dt/dx**2 * (un[2:] - 2*un[1:-1] + un[0:-2]) \\\n",
    "                + alpha * un[1:-1] * dt * (1 - un[1:-1])\n",
    "                \n",
    "        u[0] = u[1] \n",
    "        u[-1] = u[-2]\n",
    "        line.set_data(x,u)\n",
    "anim = animation.FuncAnimation(fig,CatchtheFisherwaveanimate,\\\n",
    "                               frames=nt,interval=100)"
   ]
  },
  {
   "cell_type": "code",
   "execution_count": 18,
   "metadata": {
    "collapsed": false
   },
   "outputs": [
    {
     "data": {
      "text/html": [
       "<video width=\"576.0\" height=\"432.0\" controls autoplay loop>\n",
       "  <source type=\"video/mp4\" src=\"data:video/mp4;base64,AAAAHGZ0eXBNNFYgAAACAGlzb21pc28yYXZjMQAAAAhmcmVlAAAhP21kYXQAAAKvBgX//6vcRem9\n",
       "5tlIt5Ys2CDZI+7veDI2NCAtIGNvcmUgMTQ4IHIyNjQzIDVjNjU3MDQgLSBILjI2NC9NUEVHLTQg\n",
       "QVZDIGNvZGVjIC0gQ29weWxlZnQgMjAwMy0yMDE1IC0gaHR0cDovL3d3dy52aWRlb2xhbi5vcmcv\n",
       "eDI2NC5odG1sIC0gb3B0aW9uczogY2FiYWM9MSByZWY9MyBkZWJsb2NrPTE6MDowIGFuYWx5c2U9\n",
       "MHgzOjB4MTEzIG1lPWhleCBzdWJtZT03IHBzeT0xIHBzeV9yZD0xLjAwOjAuMDAgbWl4ZWRfcmVm\n",
       "PTEgbWVfcmFuZ2U9MTYgY2hyb21hX21lPTEgdHJlbGxpcz0xIDh4OGRjdD0xIGNxbT0wIGRlYWR6\n",
       "b25lPTIxLDExIGZhc3RfcHNraXA9MSBjaHJvbWFfcXBfb2Zmc2V0PS0yIHRocmVhZHM9MTMgbG9v\n",
       "a2FoZWFkX3RocmVhZHM9MiBzbGljZWRfdGhyZWFkcz0wIG5yPTAgZGVjaW1hdGU9MSBpbnRlcmxh\n",
       "Y2VkPTAgYmx1cmF5X2NvbXBhdD0wIGNvbnN0cmFpbmVkX2ludHJhPTAgYmZyYW1lcz0zIGJfcHly\n",
       "YW1pZD0yIGJfYWRhcHQ9MSBiX2JpYXM9MCBkaXJlY3Q9MSB3ZWlnaHRiPTEgb3Blbl9nb3A9MCB3\n",
       "ZWlnaHRwPTIga2V5aW50PTI1MCBrZXlpbnRfbWluPTEwIHNjZW5lY3V0PTQwIGludHJhX3JlZnJl\n",
       "c2g9MCByY19sb29rYWhlYWQ9NDAgcmM9Y3JmIG1idHJlZT0xIGNyZj0yMy4wIHFjb21wPTAuNjAg\n",
       "cXBtaW49MCBxcG1heD02OSBxcHN0ZXA9NCBpcF9yYXRpbz0xLjQwIGFxPTE6MS4wMACAAAAS6WWI\n",
       "hAAR//73iB8yy2n5OtdyEeetLq0fUO5GcV6kvf4gAAADAAADAA4SCLMzbu2wEQuAAAISC3fvyqnm\n",
       "AZ0z6qelBAPk2v0csg9DVNCrkeYjMVhDaKuGwcrB9fZ5CJMGca5PjEADBDdL+PbXuTKtwxW+n+tb\n",
       "fhe8Nfm6EE8uGHkOCClSOOYfB1Iw1Nw9dVhlKJ/Pr3u5la55rU73+9bZf8sh09xpp9oeWTg6dGlY\n",
       "8UeiYd8kzPElRTU6HDtMocWZJYi3OL4LkMafidJoEOp64ibqjp09wTXXpTDbcO+I/8EP4QytkxvD\n",
       "FeGafgWRNFPkAuKFeVWVRe0H36SxUW8omM02Y8zynGRrS9TLNofUfBJgyl+tKhMS7ubd541vkK20\n",
       "iF7BTQzY52LB/lV4uo8c/VYfuXgVOJRmu0CWD5lWhJavL4PWUgRjDikuvqnspMFvK8qapFIVbz5K\n",
       "QAiHeHtSTaP00+cAAJOHobpUuItwijJL1yJCtiCxhp12pIkGFKMZYg+McW3ZrwJb4SNoDd/CmX5Z\n",
       "7nsREjINrSt4WjwnWo1l1sCdxi8fDDtmMnlKE+iVwHRAUPiDVR+5azlDQzaOGumtnfE0PxUs6krT\n",
       "IoRdeikthzMrmUDDKjirDtjEFZlYVwri3omPVC8/Je/N+iD0FXh/BmMA6Thk5on+eIORLXcsMuWr\n",
       "TvJnSHwnVzxsaNe5XubmNVdnaPwx4rHhtQ63QMYIcium6HQDs+26QJ68wZ0OiBFcm0jxqWT7SzBY\n",
       "gs4fRWtkHMAvs5miw5MYBck2CBDeAPhp0TrhYisD88eM3VO6b6cR2IMLDrwSyrtDvsTUqZM7tkbp\n",
       "1nM51K8iSbBAhvAM5r/FcHGiJTg6jksLLFA5lMZ1IbwBfs7yPU8N/DlDx+l1zyNjOduP5pMSFimg\n",
       "VwcaIlODqOSrvqk+lJNggQ3gHyVMS3g+rMp2wNKCNOH1KEPdBFt6yJ4isD88eL27UWzZlMZ1IbwB\n",
       "9o21kTxFYH548Z7mmBBNnIbR6Vf4LLzstCkVj46FDqmFIb61/PuXnSZt+AZ+hHyD1EJl1w3i9rK1\n",
       "/PuXnSZt+AIhJPDA3TE75nd8ZNqtKO/oMEjGc8NlcHGiJTg6jkrBbX8+5edJm34B9S2Iy7a+ZEW7\n",
       "NYYFO+K6r8BYjSSuDjREpwdRyWNSpPpSTYIEN4A/TsrIniKwPzx4xsUXMNwUzHV9HIRLOhd8XoCT\n",
       "KUn2xhtkWzZlMZ1IbwDQ3l5B6iEy64bxe34YoHMpjOpDd/82DO+lAYMpcYEAlOG3XQuJ2nb3GFkT\n",
       "xFYH548XsIjFA5lMZ1IbwECwPXFXLUEP95cycq9qkvsBSzVwcaIlODqOS1DYoHMpjOpDeAQBPFcH\n",
       "GiJTg6jliJv7xuVrnbuzdOIcbrApLDToo2MU01/PuXnSZt+AaQ21cHGiJTg6jktvKk+lJNggQ3f/\n",
       "3P5EiDlWIs6OzsADr2HW8BLxfFOQeohMuuG8XsWVSfSkmwQIbwEbD0nsmk3a1Y7sfsJ1NOv0IF5B\n",
       "6iEy64bxe+2Fs2ZTGdSG8AgPz64ONESnB1HLSTqhzVsKDE9tb2uhPyWRthzNGx4oJr+fcvOkzb8A\n",
       "0rF64ONESnB1HJbv1J9KSbBAhu//kXV3Cp1VdrEIZpgV6gFAc3LmPQ5B6iEy64bxey1C2bMpjOpD\n",
       "eAgDb17FpmTf4CcM7ncZ+DgKVVcHGiJTg6jkuMNfz7l50mbfgECVjXBxoiU4Oo5eQ95wyzi3Wd4R\n",
       "3+VPai8B/IZ14ylWv59y86TNvwDSy2rg40RKcHUclyBr+fcvOkzb8AASKRKkiiC+S5Seb34xfP27\n",
       "WwZXVcHGiJTg6jksC2v59y86TNvwD/wYZVZEwTYr4MnlaAR640m4K4ONESnB1HJcua/n3LzpM2/A\n",
       "IEsKuDjREpwdRy+H6S4VPzaZB8NxIpHMbG/B39WSXDCpPpSTYIEN4BpZjVwcaIlODqOS5c1/PuXn\n",
       "SZt9//qXiJAmQe/v2AZgMsgTqeiJWBLIrg40RKcHUclgu1/PuXnSZt+AfnFiyeHJjAvzxmbHjFGR\n",
       "RvdVcHGiJTg6jkuZBbNmUxnUhvAIEsyuDjREpwdRy4l3q4l89En1DQxbVJuMOU9FyEm1NjQHYoHM\n",
       "pjOpDeAaWZtcHGiJTg6jkuRKk+lJNggQ3f/Wyvo0/Hwzx388ZKqzvCaG2B0Lq4ONESnB1HJYLhbN\n",
       "mUxnUhvAQRGlb98n6cESZ3pfC4eh9v3dXBxoiU4Oo5LkSpPpSTYIEN4BAln1wcaIlODqOX4PocO8\n",
       "SNldtR7Y4WLMGt66/20KFJtfz7l50mbfgGlmfXBxoiU4Oo5LkSpPpSTYIEN4ADEViY1Kv6QRVwWT\n",
       "b8/N0VWMgXDzJXz0WXpvVSPmR50mkTcbk7KYV80TZzn3p3+wnMMg9Sc/p5uRJfKKIfuq7mMEjvlN\n",
       "rw/ljwiTZTxcv1nrw3YmsBPcbTNFk7bfPXsJ+PX0T3SaplPOBVhAAofLQsVpJ2PhuC9h3btb8xFD\n",
       "jsbekTt/ZG6BgNedxEHolx2uKAUEuPj5ry7LujsmBupRqEGCdDuwdYoeHaMbH7WYi4Mti4G9ZepF\n",
       "xaKVJ8Ue1UIaZ8IeIqOWvzuadewQilzmFi03L1q4dH0Ak1R403SI/CWWecQtb+sdzSm0w+DkFwEs\n",
       "g4XvwS8C9vWXUuRZP0NhqkhjjT7+E/jizTgkA8biuvPdYBU7fzXvCS+Zj4q5a4EYZ92ZCy4PNtXi\n",
       "9F76KSVvfRg/0ZA0HuZTt2Z0i6M1x/kYMwbEdpIFs5q+m6JRoNb/7/YQy0/0ZA0Htumw80gxC6hK\n",
       "UAVdtwNKGU2T7fx9G2eL0XvopJU+IGxPGQNB7Y5HUDo2zxei99FJHdWRWopi/o0hAe01DWXJeJeS\n",
       "If+YnjIGg9tgElyo6zxei99FJKtMmLDr9Dfe15N0RLs2cfxsZPXtmbY8a0c1fTdEo0Gt/9/+VuyU\n",
       "Rb1FIA4udI8MLNEE4ASR5rcLVkQrrx9G2eL0XvopJV3UclEW9RR/30AuVHWeL0XvopI9QxbQvJfS\n",
       "fZEY6RFFGZh4l5mBW5KIt6ikAHsKB0bZ4vRe+iklbnPH+jIGg9uswBqooPZ8YRwJuZ2ltU0Do2zx\n",
       "ei99FJGPJXkoi3qKP91XKCctO8OIAd+0mLDKba5rmr6bolGg1v/wwLqYnjIGg9s9V+Po2zxei99F\n",
       "JDZhm/Ai5XLNoL9cMbrmTxL0HJSP9GQNB7c44QOjbPF6L30Ukr/N1h1+hvvbsVuELYSrkkKsYGo2\n",
       "yEsHmr6bolGg1v/wGHST/RkDQe10y0OHEjmBQD5V3HC1ZHZ/4+jbPF6L30Uks62ZKIt6ij/2aKB0\n",
       "bZ4vRe+ikhBitweuMyyWvK+uhvyOEl6jqaxPGQNB7dBR4+jbPF6L30UktmSMTxkDQe3cjgofG4zj\n",
       "fqEy2JtkTFPH0bZ4vRe+ikjXBSxPGQNB7YWSV6uDwCHAgEtX4WrJDS+avpuiUaDW//Dr2OSiLeoo\n",
       "/+wSgdG2eL0XvopIkgK0qV+i4OT3Y3ZTuh4l7B/CsOv0N97dalzV9N0SjQa3/4eRdYnjIGg9vB1N\n",
       "v+edCzo6KMQgdp4Y+avpuiUaDW//A4Z9ieMgaD2xmadxcpyreBSKS6UMpugn81fTdEo0Gt/+Hq7m\n",
       "J4yBoPbXCXNX03RKNBrf/fqLMIeSOuMYCbk6I5uPEva2VsTxkDQe3nac1fTdEo0Gt/+HrcWJ4yBo\n",
       "PbwgXVkY6Kt9FusAWiO1AffNX03RKNBrf/ggdCxPGQNB7ZR3hkHDt7qgTWqtrDKbowfH0bZ4vRe+\n",
       "iklrVGSiLeoo/+77mr6bolGg1v/v17+8qC6lWVHZ00m7Du7avdQPT/RkDQe3z5oHRtni9F76KSWt\n",
       "05KIt6ikAdwEJxHi4OXjqtQBm2SoUQOjbPF6L30UkdOC5KIt6ij/s2B01K7WwC0t//C1ZJLqgdG2\n",
       "eL0XvopJa5Hkoi3qKP/3C5q+m6JRoNb/7+5D1nUq/WiuEOtrdMH2+oyNRYnjIGg9vJ3QOjbPF6L3\n",
       "0UkimX+/clZGcD7eJbovx6aLJFX2vPzZy9/MXPQI8+rmx9eAHDzgVIYZYR6bq+slJjkOVgV7aEXa\n",
       "Q3Gv76+qwAAt+1CdAAAFXiUGD/2T1oSBmW/AGGlbW3VF8r1dUSYH/Xx45Oaj7Ilkq0HxDIZ8Mk0u\n",
       "TF1sJAfNHHWUDSpXRQwzFqgOCvfOBJYz2HbhEmvOqf2jmfMSI05dHU82kNBVMkUTmAnnCWYUDOiP\n",
       "qtxf6brCgFggW/qhoAEUgV76kyZqH70oKVSQuNq/gxU1SU6jOjDWj6cQ6v2Fk8BkEYdBNs4FgPLJ\n",
       "PiD+KpkIfz6QiOSC5pjqMiiDBVQOLMRuvfUQJcdHDJRngqf5QzZcrDDWp8UjRzRis9tsgGsICopj\n",
       "AGf2Bu377LGoQqfhfAAj0xmbQNKz9Q/omPvrJ+zmEbN+dP7P/d1f9MrA8C+EmOUoHFdE7FDh7lCF\n",
       "my7QUMOzq11zIfZ7Nq/FuKxnxi+v2VLKAJIFCZxhCnwFeb5TP15JhXcWlPSJrDLu5ASRoiq6ItNr\n",
       "BCaKi2n2faoliVW/KHRmbhYoEKRCTftqNFOhlXloBQtj5RqzUHu8m3Xg3vNVC4rkdz8lNKv3afj7\n",
       "BlN1mi0TXoovq8Y1ffaXU+njyj0XHyxiNm7iHXP73itgu/OF8tuXhyYx4hEhLI3Er+DUVfl6FGS6\n",
       "GWo0Zj2KfYRcaiJg72akh0rHfUOZHPhYzCqZOvI2RxA4eo5aVD2jHwaBKu/C4lX0QpGggGJSIqsk\n",
       "HXjJiO+yGzkqLtejepLdFZKJqnx/B51Oln21GYFmFfReOznxvEcPFmI2DDQmhaxWJ5FYZfOK4a4t\n",
       "xAAO/k3acugyAxYehRzgfX+Sxbzs+fXpxzeoAqZHQkwoU84SXPJLJuZLeIedO/xp+x99qqZPElkz\n",
       "Yh+0piwAIXaavHgGyNuuB/dey00hrEjlU/oRGIdQi1df/2QQ6ffflb6rQrsEDCPgPW/cBkJgGdOz\n",
       "0hPFYczSNTjrSK9M78tyit+5Ic+8mbeqKt6cizvaOIPJ+HFq8t/s/XaXUN/WkAleORQVFXGVQ12p\n",
       "JfPrlxVn+8fuPMrLUB6pXpyZRWxg1vzvrVabir8hcqvn0vTBYNtAA0dNj4/OFWIAMjUg/rGqEx2m\n",
       "4xkk5lI6HG0HwkF7nPqCH/bwqGYpY/NUSqyA0pkZx9Xk0eXnbTMo/EVurEne9UvgnDVVnb5/SIe+\n",
       "GE04Lu+73Ktwj237EgnCnLfBKQlw+6/Q455wv6QuQe7EEZh3ueyPCHRD6HuBHS4klLexk0ws67jA\n",
       "bHe37RF4CGP/80vaqTntjlK6gkxbskpgw1C3DpgVUUPsLxiDMLB7GtEo4JM6RN0d0d5XHJ4ca/Vz\n",
       "JoQNqNHjEg2Fw0ltXQ66ptRBQQEPBRH57Zy879umm+to3xGsWD7aiCBO7//5oPV5JuhcA7gkvSsr\n",
       "txeU2788Okf2rRBaHtk34TH6lDgb26FAtKzHxx5NMCG+fykrMwFAnsG+rEH/652Lg28zzUG6KD58\n",
       "9oCUG4IGae2qFZUJixQbcnjqocLWZPL+owjJzqGF7oIOjGsWQWIi83Nr+unIug5R9rFKHsw0Ads8\n",
       "ENosvcSn6Q+SNDmNEAAqFyw/ihrlvtACNEYDSrnE5+WvHyePY/K6h6Dn0kond/iaYQZe4WE3P8J8\n",
       "iE5Vgxqabsb4/nbYRlS+H2miL3vSr0Ki1KZ/8Ih10sl+PT5ouPgcqk8JCpzGoeGYh3Q0BVwI+SPN\n",
       "67g03J0qXU5Q0QlivxTessRJJrYZJdcQjNSRRIqZad/n+MbqaTtaJjsH/vQYJ5HBFz2fCCROTHow\n",
       "WIyWH7c0rDtAB1SM4B+grYq5a9vxGOmC/PFgIQeVlBq2jWrYMg8CGe1ZhwrAumo4efAT7sQVVuAR\n",
       "s00m1G7HWrBh72LybKd+FQ2L4AH9i5n6Gqx+gnPPdlM4Dllk7Pw36snUjSbWOTosOJOE90ayMTeT\n",
       "5xrxjgK7TKRjRcgdDowipK4iI+4gABacdC7VhbNnDhfhHnXN/CF/zZyxlVWUX5RKKA9yGHTypV8/\n",
       "pqd9mxZC8tGFaAQ7r6p4fEfVC4zWdO+y5dQryqHTGcAS9mVd7FtXoXKSEmEAOwk4w/4BhRqJiu5P\n",
       "N1sjYVWqP2OKRmh1opTCv5wyfYZvHvAzdDCePScz6nXSs4PXHHch2JMbssuhhEjOFRbRcfHTI8GO\n",
       "Ou0r/n7z15mAS5DASlF7YOg6mw+s57unnwFvYFE8fs6cvF8uz81/QNBwJeOrbX8s2nd8WV5Mwia9\n",
       "7L7QLmjdz/INB48dbofqKLUKAtN9+OkvRD41dox77vu2hqoKPe/fIK320SPMSBwfDjQrlabAlVHz\n",
       "fD11ALyFSo8+F5GuNtEi5cmguPAewLoAoC3gmcO0Tfw0KKch9B2qWk7QA8wAcIAAAFVBAAAAtEGa\n",
       "JGxBH/61KoASBnqGAHSu6nvuonoTV+0ggGRxcNESyudeI3/2C2WFqoAUtBJlLsbwIPoDmWxDJSE5\n",
       "KUeXPcPxzRyrlCXcOqwDMOj+o4SCBQLZ5/ewFNFQEgIoAFRwhveVWDQCrRxV2+34uzADIAXmW4Ay\n",
       "xlmX3jsCat8+0dEEiHWnza2zWGn3kNqUr4bulrN0nxwEaIWwL0+L/t+P1rnYK3lv/JH6/ibMI4O0\n",
       "RNM9+VQNmAAAACdBnkJ4h38ARhyf9mrHNk1RXQmB7VCpTgAFFPBMPEA5L9rdDczGA+8AAAAXAZ5h\n",
       "dEN/AAADAnx3wEC+2yP0812ny0AAAAAWAZ5jakN/AAADAHhVUX0VmJ//o2vCsQAAABdBmmhJqEFo\n",
       "mUwII//+tSqAAAADAAAHrQAAAB1BnoZFESw7/wAAAwBWMYK+iswl3DCQ7jF6r3E7+QAAABcBnqV0\n",
       "Q38AAAMAeXTvLJKytS4Ddi5XwQAAABcBnqdqQ38AAAMAeYofLJLWsf8QvYaV8AAAABdBmqxJqEFs\n",
       "mUwII//+tSqAAAADAAAHrAAAABxBnspFFSw7/wAAAwBXHC/9FZYVqDItRD6D5JdBAAAAFwGe6XRD\n",
       "fwAAAwB5dO8skrK1LgN2LlfAAAAAFwGe62pDfwAAAwB5ih8sktax/xC9hpXwAAAAF0Ga8EmoQWyZ\n",
       "TAgj//61KoAAAAMAAAetAAAAHEGfDkUVLDv/AAADAFccL/0VlhWoMi1EPoPkl0EAAAAXAZ8tdEN/\n",
       "AAADAHl07yySsrUuA3YuV8EAAAAXAZ8vakN/AAADAHmKHyyS1rH/EL2GlfAAAAAXQZs0SahBbJlM\n",
       "CCP//rUqgAAAAwAAB6wAAAAcQZ9SRRUsO/8AAAMAVxwv/RWWFagyLUQ+g+SXQQAAABcBn3F0Q38A\n",
       "AAMAeXTvLJKytS4Ddi5XwAAAABcBn3NqQ38AAAMAeYofLJLWsf8QvYaV8AAAABdBm3hJqEFsmUwI\n",
       "I//+tSqAAAADAAAHrQAAABxBn5ZFFSw7/wAAAwBXHC/9FZYVqDItRD6D5JdAAAAAFwGftXRDfwAA\n",
       "AwB5dO8skrK1LgN2LlfBAAAAFwGft2pDfwAAAwB5ih8sktax/xC9hpXxAAAAF0GbvEmoQWyZTAgj\n",
       "//61KoAAAAMAAAesAAAAHEGf2kUVLDv/AAADAFccL/0VlhWoMi1EPoPkl0EAAAAXAZ/5dEN/AAAD\n",
       "AHl07yySsrUuA3YuV8AAAAAXAZ/7akN/AAADAHmKHyyS1rH/EL2GlfEAAAAXQZvgSahBbJlMCCP/\n",
       "/rUqgAAAAwAAB60AAAAcQZ4eRRUsO/8AAAMAVxwv/RWWFagyLUQ+g+SXQAAAABcBnj10Q38AAAMA\n",
       "eXTvLJKytS4Ddi5XwAAAABcBnj9qQ38AAAMAeYofLJLWsf8QvYaV8QAAABdBmiRJqEFsmUwII//+\n",
       "tSqAAAADAAAHrAAAABxBnkJFFSw7/wAAAwBXHC/9FZYVqDItRD6D5JdBAAAAFwGeYXRDfwAAAwB5\n",
       "dO8skrK1LgN2LlfAAAAAFwGeY2pDfwAAAwB5ih8sktax/xC9hpXxAAAAF0GaaEmoQWyZTAgj//61\n",
       "KoAAAAMAAAetAAAAHEGehkUVLDv/AAADAFccL/0VlhWoMi1EPoPkl0EAAAAXAZ6ldEN/AAADAHl0\n",
       "7yySsrUuA3YuV8EAAAAXAZ6nakN/AAADAHmKHyyS1rH/EL2GlfAAAAAXQZqsSahBbJlMCCP//rUq\n",
       "gAAAAwAAB6wAAAAcQZ7KRRUsO/8AAAMAVxwv/RWWFagyLUQ+g+SXQQAAABcBnul0Q38AAAMAeXTv\n",
       "LJKytS4Ddi5XwAAAABcBnutqQ38AAAMAeYofLJLWsf8QvYaV8AAAABdBmvBJqEFsmUwII//+tSqA\n",
       "AAADAAAHrQAAABxBnw5FFSw7/wAAAwBXHC/9FZYVqDItRD6D5JdBAAAAFwGfLXRDfwAAAwB5dO8s\n",
       "krK1LgN2LlfBAAAAFwGfL2pDfwAAAwB5ih8sktax/xC9hpXwAAAAF0GbNEmoQWyZTAgj//61KoAA\n",
       "AAMAAAesAAAAHEGfUkUVLDv/AAADAFccL/0VlhWoMi1EPoPkl0EAAAAXAZ9xdEN/AAADAHl07yyS\n",
       "srUuA3YuV8AAAAAXAZ9zakN/AAADAHmKHyyS1rH/EL2GlfAAAAAXQZt4SahBbJlMCCP//rUqgAAA\n",
       "AwAAB60AAAAcQZ+WRRUsO/8AAAMAVxwv/RWWFagyLUQ+g+SXQAAAABcBn7V0Q38AAAMAeXTvLJKy\n",
       "tS4Ddi5XwQAAABcBn7dqQ38AAAMAeYofLJLWsf8QvYaV8QAAABdBm7xJqEFsmUwII//+tSqAAAAD\n",
       "AAAHrAAAABxBn9pFFSw7/wAAAwBXHC/9FZYVqDItRD6D5JdBAAAAFwGf+XRDfwAAAwB5dO8skrK1\n",
       "LgN2LlfAAAAAFwGf+2pDfwAAAwB5ih8sktax/xC9hpXxAAAAF0Gb4EmoQWyZTAgj//61KoAAAAMA\n",
       "AAetAAAAHEGeHkUVLDv/AAADAFccL/0VlhWoMi1EPoPkl0AAAAAXAZ49dEN/AAADAHl07yySsrUu\n",
       "A3YuV8AAAAAXAZ4/akN/AAADAHmKHyyS1rH/EL2GlfEAAAAXQZokSahBbJlMCCP//rUqgAAAAwAA\n",
       "B6wAAAAcQZ5CRRUsO/8AAAMAVxwv/RWWFagyLUQ+g+SXQQAAABcBnmF0Q38AAAMAeXTvLJKytS4D\n",
       "di5XwAAAABcBnmNqQ38AAAMAeYofLJLWsf8QvYaV8QAAABdBmmhJqEFsmUwII//+tSqAAAADAAAH\n",
       "rQAAABxBnoZFFSw7/wAAAwBXHC/9FZYVqDItRD6D5JdBAAAAFwGepXRDfwAAAwB5dO8skrK1LgN2\n",
       "LlfBAAAAFwGep2pDfwAAAwB5ih8sktax/xC9hpXwAAAAF0GarEmoQWyZTAgj//61KoAAAAMAAAes\n",
       "AAAAHEGeykUVLDv/AAADAFccL/0VlhWoMi1EPoPkl0EAAAAXAZ7pdEN/AAADAHl07yySsrUuA3Yu\n",
       "V8AAAAAXAZ7rakN/AAADAHmKHyyS1rH/EL2GlfAAAAAXQZrwSahBbJlMCCP//rUqgAAAAwAAB60A\n",
       "AAAcQZ8ORRUsO/8AAAMAVxwv/RWWFagyLUQ+g+SXQQAAABcBny10Q38AAAMAeXTvLJKytS4Ddi5X\n",
       "wQAAABcBny9qQ38AAAMAeYofLJLWsf8QvYaV8AAAABdBmzRJqEFsmUwII//+tSqAAAADAAAHrAAA\n",
       "ABxBn1JFFSw7/wAAAwBXHC/9FZYVqDItRD6D5JdBAAAAFwGfcXRDfwAAAwB5dO8skrK1LgN2LlfA\n",
       "AAAAFwGfc2pDfwAAAwB5ih8sktax/xC9hpXwAAAAF0GbeEmoQWyZTAgj//61KoAAAAMAAAetAAAA\n",
       "HEGflkUVLDv/AAADAFccL/0VlhWoMi1EPoPkl0AAAAAXAZ+1dEN/AAADAHl07yySsrUuA3YuV8EA\n",
       "AAAXAZ+3akN/AAADAHmKHyyS1rH/EL2GlfEAAAAYQZu8SahBbJlMCCH//qpVAAADAAADAA9YAAAA\n",
       "HEGf2kUVLDv/AAADAFccL/0VlhWoMi1EPoPkl0EAAAAXAZ/5dEN/AAADAHl07yySsrUuA3YuV8AA\n",
       "AAAXAZ/7akN/AAADAHmKHyyS1rH/EL2GlfEAAAAYQZvgSahBbJlMCH///qmWAAADAAADADwhAAAA\n",
       "HEGeHkUVLDv/AAADAFccL/0VlhWoMi1EPoPkl0AAAAAXAZ49dEN/AAADAHl07yySsrUuA3YuV8AA\n",
       "AAAXAZ4/akN/AAADAHmKHyyS1rH/EL2GlfEAAAAYQZojSahBbJlMCG///qeEAAADAAADAHdAAAAA\n",
       "GkGeQkIb/wAAAwB5lKorJLqWWt5KNlOit7+BAAAAFwGeYWkQ3wAAAwB5dO8skrK1LgN2LlfAAAAH\n",
       "3m1vb3YAAABsbXZoZAAAAAAAAAAAAAAAAAAAA+gAACcQAAEAAAEAAAAAAAAAAAAAAAABAAAAAAAA\n",
       "AAAAAAAAAAAAAQAAAAAAAAAAAAAAAAAAQAAAAAAAAAAAAAAAAAAAAAAAAAAAAAAAAAAAAAAAAAIA\n",
       "AAcIdHJhawAAAFx0a2hkAAAAAwAAAAAAAAAAAAAAAQAAAAAAACcQAAAAAAAAAAAAAAAAAAAAAAAB\n",
       "AAAAAAAAAAAAAAAAAAAAAQAAAAAAAAAAAAAAAAAAQAAAAAJAAAABsAAAAAAAJGVkdHMAAAAcZWxz\n",
       "dAAAAAAAAAABAAAnEAAACAAAAQAAAAAGgG1kaWEAAAAgbWRoZAAAAAAAAAAAAAAAAAAAKAAAAZAA\n",
       "VcQAAAAAAC1oZGxyAAAAAAAAAAB2aWRlAAAAAAAAAAAAAAAAVmlkZW9IYW5kbGVyAAAABittaW5m\n",
       "AAAAFHZtaGQAAAABAAAAAAAAAAAAAAAkZGluZgAAABxkcmVmAAAAAAAAAAEAAAAMdXJsIAAAAAEA\n",
       "AAXrc3RibAAAALNzdHNkAAAAAAAAAAEAAACjYXZjMQAAAAAAAAABAAAAAAAAAAAAAAAAAAAAAAJA\n",
       "AbAASAAAAEgAAAAAAAAAAQAAAAAAAAAAAAAAAAAAAAAAAAAAAAAAAAAAAAAAAAAAABj//wAAADFh\n",
       "dmNDAWQAFv/hABhnZAAWrNlAkDehAAADAAEAAAMAFA8WLZYBAAZo6+PLIsAAAAAcdXVpZGtoQPJf\n",
       "JE/FujmlG88DI/MAAAAAAAAAGHN0dHMAAAAAAAAAAQAAAGQAAAQAAAAAFHN0c3MAAAAAAAAAAQAA\n",
       "AAEAAAMwY3R0cwAAAAAAAABkAAAAAQAACAAAAAABAAAUAAAAAAEAAAgAAAAAAQAAAAAAAAABAAAE\n",
       "AAAAAAEAABQAAAAAAQAACAAAAAABAAAAAAAAAAEAAAQAAAAAAQAAFAAAAAABAAAIAAAAAAEAAAAA\n",
       "AAAAAQAABAAAAAABAAAUAAAAAAEAAAgAAAAAAQAAAAAAAAABAAAEAAAAAAEAABQAAAAAAQAACAAA\n",
       "AAABAAAAAAAAAAEAAAQAAAAAAQAAFAAAAAABAAAIAAAAAAEAAAAAAAAAAQAABAAAAAABAAAUAAAA\n",
       "AAEAAAgAAAAAAQAAAAAAAAABAAAEAAAAAAEAABQAAAAAAQAACAAAAAABAAAAAAAAAAEAAAQAAAAA\n",
       "AQAAFAAAAAABAAAIAAAAAAEAAAAAAAAAAQAABAAAAAABAAAUAAAAAAEAAAgAAAAAAQAAAAAAAAAB\n",
       "AAAEAAAAAAEAABQAAAAAAQAACAAAAAABAAAAAAAAAAEAAAQAAAAAAQAAFAAAAAABAAAIAAAAAAEA\n",
       "AAAAAAAAAQAABAAAAAABAAAUAAAAAAEAAAgAAAAAAQAAAAAAAAABAAAEAAAAAAEAABQAAAAAAQAA\n",
       "CAAAAAABAAAAAAAAAAEAAAQAAAAAAQAAFAAAAAABAAAIAAAAAAEAAAAAAAAAAQAABAAAAAABAAAU\n",
       "AAAAAAEAAAgAAAAAAQAAAAAAAAABAAAEAAAAAAEAABQAAAAAAQAACAAAAAABAAAAAAAAAAEAAAQA\n",
       "AAAAAQAAFAAAAAABAAAIAAAAAAEAAAAAAAAAAQAABAAAAAABAAAUAAAAAAEAAAgAAAAAAQAAAAAA\n",
       "AAABAAAEAAAAAAEAABQAAAAAAQAACAAAAAABAAAAAAAAAAEAAAQAAAAAAQAAFAAAAAABAAAIAAAA\n",
       "AAEAAAAAAAAAAQAABAAAAAABAAAUAAAAAAEAAAgAAAAAAQAAAAAAAAABAAAEAAAAAAEAABQAAAAA\n",
       "AQAACAAAAAABAAAAAAAAAAEAAAQAAAAAAQAAFAAAAAABAAAIAAAAAAEAAAAAAAAAAQAABAAAAAAB\n",
       "AAAQAAAAAAEAAAgAAAAAAQAAAAAAAAAcc3RzYwAAAAAAAAABAAAAAQAAAGQAAAABAAABpHN0c3oA\n",
       "AAAAAAAAAAAAAGQAABWgAAAAuAAAACsAAAAbAAAAGgAAABsAAAAhAAAAGwAAABsAAAAbAAAAIAAA\n",
       "ABsAAAAbAAAAGwAAACAAAAAbAAAAGwAAABsAAAAgAAAAGwAAABsAAAAbAAAAIAAAABsAAAAbAAAA\n",
       "GwAAACAAAAAbAAAAGwAAABsAAAAgAAAAGwAAABsAAAAbAAAAIAAAABsAAAAbAAAAGwAAACAAAAAb\n",
       "AAAAGwAAABsAAAAgAAAAGwAAABsAAAAbAAAAIAAAABsAAAAbAAAAGwAAACAAAAAbAAAAGwAAABsA\n",
       "AAAgAAAAGwAAABsAAAAbAAAAIAAAABsAAAAbAAAAGwAAACAAAAAbAAAAGwAAABsAAAAgAAAAGwAA\n",
       "ABsAAAAbAAAAIAAAABsAAAAbAAAAGwAAACAAAAAbAAAAGwAAABsAAAAgAAAAGwAAABsAAAAbAAAA\n",
       "IAAAABsAAAAbAAAAGwAAACAAAAAbAAAAGwAAABwAAAAgAAAAGwAAABsAAAAcAAAAIAAAABsAAAAb\n",
       "AAAAHAAAAB4AAAAbAAAAFHN0Y28AAAAAAAAAAQAAACwAAABidWR0YQAAAFptZXRhAAAAAAAAACFo\n",
       "ZGxyAAAAAAAAAABtZGlyYXBwbAAAAAAAAAAAAAAAAC1pbHN0AAAAJal0b28AAAAdZGF0YQAAAAEA\n",
       "AAAATGF2ZjU3LjU2LjEwMA==\n",
       "\">\n",
       "  Your browser does not support the video tag.\n",
       "</video>"
      ],
      "text/plain": [
       "<IPython.core.display.HTML object>"
      ]
     },
     "execution_count": 18,
     "metadata": {},
     "output_type": "execute_result"
    }
   ],
   "source": [
    "HTML(anim.to_html5_video())"
   ]
  },
  {
   "cell_type": "markdown",
   "metadata": {},
   "source": [
    "## References: ##\n",
    "\n",
    "1. https://en.wikipedia.org/wiki/Fisher's_equation\n",
    "\n"
   ]
  },
  {
   "cell_type": "markdown",
   "metadata": {},
   "source": [
    "###### Cell below loads the style for the notebook"
   ]
  },
  {
   "cell_type": "code",
   "execution_count": null,
   "metadata": {
    "collapsed": false
   },
   "outputs": [],
   "source": [
    "from IPython.core.display import HTML\n",
    "css_file = 'style_kulkarni2.css'\n",
    "HTML(open(css_file, \"r\").read())"
   ]
  },
  {
   "cell_type": "code",
   "execution_count": null,
   "metadata": {
    "collapsed": true
   },
   "outputs": [],
   "source": []
  }
 ],
 "metadata": {
  "anaconda-cloud": {},
  "kernelspec": {
   "display_name": "Python [default]",
   "language": "python",
   "name": "python3"
  },
  "language_info": {
   "codemirror_mode": {
    "name": "ipython",
    "version": 3
   },
   "file_extension": ".py",
   "mimetype": "text/x-python",
   "name": "python",
   "nbconvert_exporter": "python",
   "pygments_lexer": "ipython3",
   "version": "3.5.2"
  }
 },
 "nbformat": 4,
 "nbformat_minor": 1
}
