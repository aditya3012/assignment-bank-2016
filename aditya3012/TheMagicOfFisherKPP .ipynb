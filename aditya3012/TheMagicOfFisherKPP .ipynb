{
 "cells": [
  {
   "cell_type": "markdown",
   "metadata": {},
   "source": [
    "###### Content under Creative Commons Attribution license CC-BY 4.0, code under MIT license (c)2016 A.A. Kulkarni"
   ]
  },
  {
   "cell_type": "markdown",
   "metadata": {
    "collapsed": true
   },
   "source": [
    "## \"We need to be appreciated more than ever\" - PDE's"
   ]
  },
  {
   "cell_type": "markdown",
   "metadata": {},
   "source": [
    "   Some may say our prevalence and importance is only to the world of engineering and physics. But have you lately checked out the advances in [biology](https://www.birs.ca/workshops/2015/15w5072/report15w5072.pdf), [economics](http://www.princeton.edu/~moll/PDE_macro.pdf) and real-time stock trading?\n",
    "<img style=\"float: right;\" src=\"tumblr_why.jpg\" width=\"350\" height=\"300\" >\n",
    "\n",
    "Engineers working on a new Bentley, analysts crunching numbers at the New York stock exchange to scientists studying motion of miniscule droplets on a leaf to the formation of gigantic galaxies all rely on PDE's. \n",
    "\n",
    "Credit to Dr Barba and her group, we have had fun with some interesting ordinary and partial differential equations. Right from Module 1 the wheels in our head are turning, and to keep up with that, I asked myself a question, \n",
    "\n",
    "\n",
    "\n",
    "\n",
    "\n"
   ]
  },
  {
   "cell_type": "markdown",
   "metadata": {},
   "source": [
    "#### *** Is there a equation which is at the forefront of not one but many distinct fields? ***"
   ]
  },
  {
   "cell_type": "markdown",
   "metadata": {},
   "source": [
    "## Hello Fisher Kolmogorov equation!"
   ]
  },
  {
   "cell_type": "markdown",
   "metadata": {},
   "source": [
    "A non-linear reaction-diffusion equation by nature, its use can be seen from the fields of ecology, combustion, crystallization, plasma and adavantageous gene travel [1].\n",
    "$$ \\frac {\\partial u}{\\partial t} - D \\frac{\\partial^2 u}{\\partial^2 x} = f(u)$$\n",
    "Let's take a look at what the equation is built up of,\n",
    "\n",
    "1. It's a 2nd order in space\n",
    "2. It's a 1st order in time\n",
    "3. Composed of one non-linear term - represents kinetics\n",
    "\n",
    "Such equations where reaction kinetics and diffusion are coupled can affect the studied phenomenon faster than the standard diffusion equation. To study some interesting cases, lets start by importing the libraries ...\n"
   ]
  },
  {
   "cell_type": "code",
   "execution_count": null,
   "metadata": {
    "collapsed": false
   },
   "outputs": [],
   "source": [
    "import numpy\n",
    "from matplotlib import pyplot\n",
    "import math\n",
    "%matplotlib inline\n",
    "from matplotlib import rcParams\n",
    "rcParams['font.family'] = 'serif'\n",
    "rcParams['font.size'] =16\n",
    "\n",
    "from matplotlib import animation\n",
    "from IPython.display import HTML"
   ]
  },
  {
   "cell_type": "markdown",
   "metadata": {},
   "source": [
    "### Case 1: Propagation of a Mutant Gene"
   ]
  },
  {
   "cell_type": "markdown",
   "metadata": {},
   "source": [
    "Let us imagine a population of individuals that have a mutant gene with concentration $u$ and a concentration of parent gene to be $1-u$. The individuals in this town diffuse by interacting with each other and having offsprings. Fisher and Kolmogorov (1937) simultaneously came up with a model to describe the spread of this mutation in some or a group of individuals at a specified spatial location through diffusion and natural selection, "
   ]
  },
  {
   "cell_type": "markdown",
   "metadata": {},
   "source": [
    "\\begin{equation}\n",
    "u_t =D u_{xx} + \\alpha u(1-u)\n",
    "\\end{equation}\n",
    "\n",
    "where, D is the measure of how fast the individuals carrying the gene spread, $\\alpha u(1-u)$ represents the kinetics and $\\alpha$ models the utility of a gene growth rate of population with gene -- $\\alpha$ > 0 = advantageous gene while $\\alpha$ < 0 = disadvantageous gene\n",
    "\n",
    "To save space, I will not talk about the [non-dimensionalizing](https://www.math.ucdavis.edu/~hunter/m280_09/ch.pdf) aspect but by scaling variables to remove constant, we can see that $u(x,t)$ still satisfies \n",
    "Lets look at the initial and boundary conditions,\n",
    "\n",
    "\\begin{equation}\n",
    "u(x,0)=\\begin{cases}1 & \\text{where } 0\\leq x \\leq 1,\\\\\n",
    "0 & \\text{everywhere else in } (0, 20)\n",
    "\\end{cases}\n",
    "\\end{equation}\n",
    "\n",
    "$$ u(x,0) = u_o$$\n",
    "\n",
    "The above implies that to begin with the mutant gene is found only in one region where $u(x,t) =1$ and no found where $u(x,t) = 0$. Neumann B.C is imposed, which implies that no individuals with the gene leave or enter the shoreline\n",
    "\n",
    "$$ \\frac {\\partial{u}}{ \\partial{t}} = 0 $$\n",
    "\n",
    "We use the forward time central space to discretize the equation. The central difference is carrried out by using the taylor expressions and ignoring the terms of $4^{th}$ order and higher.\n",
    "\n",
    "Thus the discretized equation becomes,\n",
    "$$ \\frac{u_i^{n+1} - u_i^{n}}{\\Delta t} = \\frac{u_{i+1}^{n} - 2u_i^{n} + u_{i-1}^n}{\\Delta x^2} + \\alpha u_i^n(1-u_i^n)$$\n",
    "\n",
    "So now we already have one inital condition, thus the only unknown is $u_i^{n+1} $ and re-arranging the above equation to get this term on the LHS, we get\n",
    "\n",
    "$$ u_i^{n+1} = \\frac{\\Delta t }{\\Delta x^2} (u_{i+1}^{n} - 2u_i^{n} + u_{i-1}^n) + \\Delta t \\alpha u_i^n(1-u_i^n) +u_i^n$$ "
   ]
  },
  {
   "cell_type": "code",
   "execution_count": null,
   "metadata": {
    "collapsed": false
   },
   "outputs": [],
   "source": [
    "nx =101\n",
    "dx =0.1                                            # Spatial increment\n",
    "dt =0.001                                          # Time increment\n",
    "nt = [0,250,1000,2500,6000]                        #Array of timesteps\n",
    "x = numpy.linspace(0,10,nx)\n",
    "D =1                                               # Diffusion constant \n",
    "alpha = 1                                          # Utility of gene \n",
    "\n",
    "uo = numpy.zeros(nx)\n",
    "lbound = numpy.where(x <= 1)\n",
    "ubound = numpy.where(x >= 0)            \n",
    "bounds = numpy.intersect1d(lbound, ubound)\n",
    "uo[bounds]=1                                       # Initial waveform"
   ]
  },
  {
   "cell_type": "code",
   "execution_count": null,
   "metadata": {
    "collapsed": true
   },
   "outputs": [],
   "source": [
    "def CatchtheFisherwave(u,nt,dt,dx):\n",
    "    \n",
    "    \"\"\"Returns the concentration of gene mutation in a population:\n",
    "    \n",
    "    Solves the non-linear Fisher equation where \n",
    "    * the diffusion constant is set to 1\n",
    "    * the domain is x \\in [-10, 10]\n",
    "    * An array of timestep from 0 to 2000 are taken, with \\Delta t = 0.001\n",
    "    * the initial data is described in above\n",
    "    \n",
    "    Parameters\n",
    "    ----------\n",
    "    u  : Initial waveform\n",
    "    nt : int - number of time steps\n",
    "    dt : step in temporal scale\n",
    "    dx : step in x direction\n",
    "        \n",
    "    Returns\n",
    "    -------\n",
    "    u = u : array of float\n",
    "        Concentration of mutant gene that has affected the population\n",
    "        1 = entire population over the area has the gene\n",
    "        0 = entire population over the area does not have the gene\n",
    "    \n",
    "    \"\"\"\n",
    "    un= numpy.zeros_like(u)\n",
    "    for n in range (nt):\n",
    "        un= numpy.copy(u)\n",
    "        u[1:-1] = un[1:-1] \\\n",
    "                + D * dt/dx**2 * (un[2:] - 2*un[1:-1] + un[0:-2]) \\\n",
    "                + alpha * un[1:-1] * dt * (1 - un[1:-1])\n",
    "                \n",
    "        u[0]  =  u[1]              #B.C imposed on left side of domain\n",
    "        u[-1] =  u[-2]             #B.C imposed on right side of domain\n",
    "        \n",
    "    return u"
   ]
  },
  {
   "cell_type": "code",
   "execution_count": null,
   "metadata": {
    "collapsed": false
   },
   "outputs": [],
   "source": [
    "%run subplot.py # The function to create subplot is called from a .py file\n",
    "sub1.plot(x,uo,lw=2)\n",
    "for n in nt:\n",
    "    u = CatchtheFisherwave(uo,n,dt,dx) # Call to the function using a for loop\n",
    "    sub2.plot(x,u,lw=2, label='t = %s' %n)\n",
    "    pyplot.legend(prop={'size':10}) #legend call to set location and size\n",
    "pyplot.show()"
   ]
  },
  {
   "cell_type": "markdown",
   "metadata": {},
   "source": [
    "**To also get a better understanding of this, lets animate this plot. This animation is worth your time, so let it run for 10-15 minutes**"
   ]
  },
  {
   "cell_type": "code",
   "execution_count": null,
   "metadata": {
    "collapsed": false
   },
   "outputs": [],
   "source": [
    "%run Animate_func.py\n",
    "HTML(anim.to_html5_video())"
   ]
  },
  {
   "cell_type": "markdown",
   "metadata": {},
   "source": [
    "## What the Fish(er wave)! That is cool\n",
    "\n",
    "I told you, didn't I? It is interesting that as we march forward in time, the mutant gene which dominants the left side of our domain propagates as a wave with a constant speed, thus saturating the population with the mutant gene. See how the blue area that has no mutant gene gets swamped by the wave and diffuses the mutant gene throughout the population\n",
    "\n",
    "This wave has so many applications that I'll rant about it for days but to begin with this is how an advantageous/disadvantageous gene diffuses through a population, how even you and I as [humans have formed due to a diffusive spread of a particular genotype from Africa](http://nekhbet.com/A_Diffusion_Wave_out_of_Africa.pdf). The spatial direction can be thought of as a linspace of generations. **How cool is that!!!**  \n",
    "\n",
    "As it is a non-linear PDE superpositions and explicit solutions do not exist however one thing we can certainly see from the animation and plot is that for, $0\\leq  u(x,0)  \\leq 1$ we can see that,\n",
    "\n",
    "$$\\lim_{x\\to -\\infty} u(x,t) = 0  $$ $$ \\lim_{x\\to\\infty} u(x,t) = 1$$\n",
    "\n",
    " ### Case 2: Travel with different conditions ( Wait for the animation to know what is diffusing through )\n",
    " \n",
    "As a quick look at another case lets see how the propagation of a square wave at origin that has a disadvantageous sickle cell gene diffuse through the region in a non-linear fashion until a stable uniform region is formed at $u=1$\n",
    "\n",
    "The possibilities with this equation are endless!!!"
   ]
  },
  {
   "cell_type": "code",
   "execution_count": null,
   "metadata": {
    "collapsed": false
   },
   "outputs": [],
   "source": [
    "%%capture\n",
    "%run subplot1.py\n"
   ]
  },
  {
   "cell_type": "code",
   "execution_count": null,
   "metadata": {
    "collapsed": false
   },
   "outputs": [],
   "source": [
    "pyplot.show()\n",
    "% run Animate_mutantgene.py\n",
    "HTML(anim.to_html5_video())"
   ]
  },
  {
   "cell_type": "markdown",
   "metadata": {},
   "source": [
    "## Conclusion and Future Work\n",
    "\n",
    "We studied the Fisher Kolmogorov equation and it's implementation in gene travel ( similar to case of diffusion of the gene that was carried from Africa ) and even diffusion of a certain sickle cell gene using different initial conditions. \n",
    "\n",
    "For the next step, I would love to implement the semi-implicit method and implicit method to study some specific cases. For now, keep your minds tinkering on the work we just did and try out different possibilities."
   ]
  },
  {
   "cell_type": "markdown",
   "metadata": {},
   "source": [
    "## References: ##\n",
    "\n",
    "1. https://en.wikipedia.org/wiki/Fisher's_equation\n",
    "2. R. A. Fisher, The wave of advance of advantageous genes, Ann. Eugenics 7 (1937), 353369.\n",
    "3. A. Kolmogorov, I. G. Petrovskii, and N. S. Piskunov, A study of the diffusion equation with increase in the amount of substance, and its application to a biological problem.(translated from Bull. Moscow Univ., Math. Mech. 1, (1937) 1–25).\n",
    "3. Chicone, Carmen. An Invitation to Applied Mathematics Differential Equations, Modeling, and Computation. N.p.: Academic Pr, 2016. Print\n",
    "5. Murray, J. D. \"Biological Waves: Single-Species Models.\" Mathematical Biology: I. An Introduction. New York, NY: Springer New York, 2004. N. pag. Print.\n",
    "\n",
    "6. Hunter, John K. \"LECTURE NOTES ON APPLIED MATHEMATICS.\" (n.d.): n. pag. Web.\n",
    "\n",
    "7. Eswaran, Vinayak. \"A Diffusion Wave out of Africa-The Mechanism of the Modern Human Revolution?\" Anthropology News 31.7 (1990): 22-24. Web.\n",
    "\n",
    "8. MAE 6286 - Practical numerical methods with python\n"
   ]
  },
  {
   "cell_type": "markdown",
   "metadata": {},
   "source": [
    "###### Cell below loads the style for the notebook"
   ]
  },
  {
   "cell_type": "code",
   "execution_count": null,
   "metadata": {
    "collapsed": false
   },
   "outputs": [],
   "source": [
    "from IPython.core.display import HTML\n",
    "css_file = 'numericalmoocstyle.css'\n",
    "HTML(open(css_file, \"r\").read())"
   ]
  },
  {
   "cell_type": "code",
   "execution_count": null,
   "metadata": {
    "collapsed": true
   },
   "outputs": [],
   "source": []
  }
 ],
 "metadata": {
  "anaconda-cloud": {},
  "kernelspec": {
   "display_name": "Python [default]",
   "language": "python",
   "name": "python3"
  },
  "language_info": {
   "codemirror_mode": {
    "name": "ipython",
    "version": 3
   },
   "file_extension": ".py",
   "mimetype": "text/x-python",
   "name": "python",
   "nbconvert_exporter": "python",
   "pygments_lexer": "ipython3",
   "version": "3.5.2"
  }
 },
 "nbformat": 4,
 "nbformat_minor": 1
}
