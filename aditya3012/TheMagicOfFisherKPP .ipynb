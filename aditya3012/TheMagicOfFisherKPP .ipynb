{
 "cells": [
  {
   "cell_type": "markdown",
   "metadata": {},
   "source": [
    "###### Content under Creative Commons Attribution license CC-BY 4.0, code under MIT license (c)2016 A.A. Kulkarni"
   ]
  },
  {
   "cell_type": "markdown",
   "metadata": {
    "collapsed": true
   },
   "source": [
    "## \"We need to be appreciated more than ever\" - PDE's"
   ]
  },
  {
   "cell_type": "markdown",
   "metadata": {},
   "source": [
    "   Some may say our prevalence and importance is only to the world of engineering and physics. But have you lately checked out the advances in [biology](https://www.birs.ca/workshops/2015/15w5072/report15w5072.pdf), [economics](http://www.princeton.edu/~moll/PDE_macro.pdf) and real-time stock trading?\n",
    "<img style=\"float: right;\" src=\"tumblr_why.jpg\" width=\"350\" height=\"300\" >\n",
    "\n",
    "Engineers working on a new Bentley, analysts crunching numbers at the New York stock exchange to scientists studying motion of miniscule droplets on a leaf to the formation of gigantic galaxies all rely on PDE's. \n",
    "\n",
    "\n",
    "To romanticize this importance, PDE's can be thought of links between our understanding and things that happen in universe.\n",
    "\n",
    "Credit to Dr Barba and her group, we have had fun with some interesting ordinary and partial differential equations. Right from Module 1 the wheels in our head are turning, and to keep up with that, I asked myself a question, \n",
    "\n",
    "\n",
    "\n",
    "\n",
    "\n"
   ]
  },
  {
   "cell_type": "markdown",
   "metadata": {},
   "source": [
    "#### *** Is there a equation which is at the forefront of not one but many distinct fields? ***"
   ]
  },
  {
   "cell_type": "markdown",
   "metadata": {},
   "source": [
    "## Hello Fisher Kolmogorov equation!"
   ]
  },
  {
   "cell_type": "markdown",
   "metadata": {},
   "source": [
    "A non-linear reaction-diffusion equation by nature, its use can be seen from the fields of ecology, combustion, crystallization, plasma and adavantageous gene travel [1].\n",
    "$$ \\frac {\\partial u}{\\partial t} - D \\frac{\\partial^2 u}{\\partial^2 x} = f(u)$$\n",
    "Let's take a look at what the equation is built up of,\n",
    "\n",
    "1. It's a 2nd order in space\n",
    "2. It's a 1st order in time\n",
    "3. Composed of one non-linear term\n"
   ]
  },
  {
   "cell_type": "code",
   "execution_count": 1,
   "metadata": {
    "collapsed": false
   },
   "outputs": [],
   "source": [
    "import numpy\n",
    "from matplotlib import pyplot\n",
    "import math\n",
    "%matplotlib inline\n",
    "from matplotlib import rcParams\n",
    "rcParams['font.family'] = 'serif'\n",
    "rcParams['font.size'] =16"
   ]
  },
  {
   "cell_type": "markdown",
   "metadata": {},
   "source": [
    "$$ u_t =u_{xx} + 6u(1-u)$$  \n",
    "** Lets look at the initial and boundary conditions, **\n",
    "\n",
    "$$ u_o(x)  = \\frac{1}{2} \\tanh(x) + \\frac{1}{2}$$\n",
    "\n",
    "$$ u(x,0) = u_o$$\n",
    "\n",
    "** and the boundary condition is **\n",
    "\n",
    "$$ \\frac {\\partial{u}}{ \\partial{n}} = 0 $$\n",
    "\n",
    "** Thus the discretized equation becomes,**\n",
    "$$ \\frac{u_i^{n+1} - u_i^{n}}{\\Delta t} = \\frac{u_{i+1}^{n} - 2u_i^{n} + u_{i-1}^n}{\\Delta x^2} + \\alpha u_i^n(1-u_i^n)$$\n",
    "\n",
    "So now we already have one inital condition, thus the only unknown is $u_i^{n+1} $ and re-arranging the above equation to get this term on the LHS, we get\n",
    "\n",
    "$$ u_i^{n+1} = \\frac{\\Delta t }{\\Delta x^2} (u_{i+1}^{n} - 2u_i^{n} + u_{i-1}^n) + \\Delta t \\alpha u_i^n(1-u_i^n) +u_i^n$$ "
   ]
  },
  {
   "cell_type": "code",
   "execution_count": 7,
   "metadata": {
    "collapsed": true
   },
   "outputs": [],
   "source": [
    "nx =101\n",
    "dx =0.1\n",
    "dt =0.001\n",
    "x = numpy.linspace(-10,10,nx)\n",
    "D =1\n",
    "alpha = 6\n",
    "\n",
    "u = numpy.zeros(nx)\n",
    "u = 1/2 * numpy.tanh(x) + 1/2               #Initial waveform"
   ]
  },
  {
   "cell_type": "code",
   "execution_count": 8,
   "metadata": {
    "collapsed": true
   },
   "outputs": [],
   "source": [
    "def CatchtheFisherwave(u,nt,dt,dx):\n",
    "    \n",
    "    \"\"\"Solve the linear convection equation.\n",
    "    \n",
    "    Solves the equation d_t u + c d_x u = 0 where \n",
    "    * the diffusion constant is set to 1\n",
    "    * the domain is x \\in [0, 10]\n",
    "    * 20 timesteps are taken, with \\Delta t = 0.1\n",
    "    * the initial data is described in above\n",
    "    \n",
    "    Parameters\n",
    "    ----------\n",
    "    u  : Initial waveform\n",
    "    nx : integer\n",
    "        number of internal grid points\n",
    "    dt : difference in each timestep\n",
    "    dx :\n",
    "        \n",
    "    Returns\n",
    "    -------\n",
    "    \n",
    "    \n",
    "    \"\"\"\n",
    "    \n",
    "    un= numpy.zeros_like(u)\n",
    "    u = 1/2 * numpy.tanh(x) + 1/2\n",
    "    for n in range (nt):\n",
    "        un= numpy.copy(u)\n",
    "        u[1:-1] = un[1:-1] \\\n",
    "                + D * dt/dx**2 * (un[2:] - 2*un[1:-1] + un[0:-2]) \\\n",
    "                + alpha * un[1:-1] * dt * (1 - un[1:-1])\n",
    "                \n",
    "        u[0] = u[1] \n",
    "        u[-1] = u[-2]\n",
    "        \n",
    "    return u"
   ]
  },
  {
   "cell_type": "code",
   "execution_count": 25,
   "metadata": {
    "collapsed": false
   },
   "outputs": [
    {
     "data": {
      "image/png": "[encoded data removed]",
      "text/plain": [
       "<matplotlib.figure.Figure at 0x7fbec2135e80>"
      ]
     },
     "metadata": {},
     "output_type": "display_data"
    }
   ],
   "source": [
    "u_1 = CatchtheFisherwave(u,100,dt,dx)       # Calling the function with nt=100\n",
    "u_2 = CatchtheFisherwave(u,250,dt,dx)       # Calling the function with nt=250\n",
    "u_3 = CatchtheFisherwave(u,500,dt,dx)       # Calling the function with nt=500\n",
    "u_4 = CatchtheFisherwave(u,1000,dt,dx)      # Calling the function with nt=1000\n",
    "u_5 = CatchtheFisherwave(u,1250,dt,dx)      # Calling the function with nt=100\n",
    "u_final = CatchtheFisherwave(u,2000,dt,dx)  # Calling the function with nt=100\n",
    "pyplot.figure(figsize=(8,5), dpi=100)\n",
    "pyplot.ylim(-0.5,1.5)\n",
    "pyplot.plot(x,u,x,u_1,x,u_2,x,u_3,x,u_4,x,u_5,x,u_final,lw=2)\n",
    "pyplot.show()"
   ]
  },
  {
   "cell_type": "code",
   "execution_count": null,
   "metadata": {
    "collapsed": true
   },
   "outputs": [],
   "source": []
  },
  {
   "cell_type": "markdown",
   "metadata": {},
   "source": [
    "## References: ##\n",
    "\n",
    "1. https://en.wikipedia.org/wiki/Fisher's_equation\n",
    "\n"
   ]
  },
  {
   "cell_type": "markdown",
   "metadata": {},
   "source": [
    "###### Cell below loads the style for the notebook"
   ]
  },
  {
   "cell_type": "code",
   "execution_count": null,
   "metadata": {
    "collapsed": false
   },
   "outputs": [],
   "source": [
    "from IPython.core.display import HTML\n",
    "css_file = 'style_kulkarni2.css'\n",
    "HTML(open(css_file, \"r\").read())"
   ]
  },
  {
   "cell_type": "code",
   "execution_count": null,
   "metadata": {
    "collapsed": true
   },
   "outputs": [],
   "source": []
  }
 ],
 "metadata": {
  "anaconda-cloud": {},
  "kernelspec": {
   "display_name": "Python [default]",
   "language": "python",
   "name": "python3"
  },
  "language_info": {
   "codemirror_mode": {
    "name": "ipython",
    "version": 3
   },
   "file_extension": ".py",
   "mimetype": "text/x-python",
   "name": "python",
   "nbconvert_exporter": "python",
   "pygments_lexer": "ipython3",
   "version": "3.5.2"
  }
 },
 "nbformat": 4,
 "nbformat_minor": 1
}
