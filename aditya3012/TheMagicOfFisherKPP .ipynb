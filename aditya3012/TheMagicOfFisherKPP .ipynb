{
 "cells": [
  {
   "cell_type": "markdown",
   "metadata": {},
   "source": [
    "###### Content under Creative Commons Attribution license CC-BY 4.0, code under MIT license (c)2016 A.A. Kulkarni"
   ]
  },
  {
   "cell_type": "markdown",
   "metadata": {
    "collapsed": true
   },
   "source": [
    "## \"We need to be appreciated more than ever\" - PDE's"
   ]
  },
  {
   "cell_type": "markdown",
   "metadata": {},
   "source": [
    "   Some may say our prevalence and importance is only to the world of engineering and physics. But have you lately checked out the advances in [biology](https://www.birs.ca/workshops/2015/15w5072/report15w5072.pdf), [economics](http://www.princeton.edu/~moll/PDE_macro.pdf) and real-time stock trading?\n",
    "<img style=\"float: right;\" src=\"tumblr_why.jpg\" width=\"350\" height=\"300\" >\n",
    "\n",
    "Engineers working on a new Bentley, analysts crunching numbers at the New York stock exchange to scientists studying motion of miniscule droplets on a leaf to the formation of gigantic galaxies all rely on PDE's. \n",
    "\n",
    "Credit to Dr Barba and her group, we have had fun with some interesting ordinary and partial differential equations. Right from Module 1 the wheels in our head are turning, and to keep up with that, I asked myself a question, \n",
    "\n",
    "\n",
    "\n",
    "\n",
    "\n"
   ]
  },
  {
   "cell_type": "markdown",
   "metadata": {},
   "source": [
    "#### *** Is there a equation which is at the forefront of not one but many distinct fields? ***"
   ]
  },
  {
   "cell_type": "markdown",
   "metadata": {},
   "source": [
    "## Hello Fisher Kolmogorov equation!"
   ]
  },
  {
   "cell_type": "markdown",
   "metadata": {},
   "source": [
    "A non-linear reaction-diffusion equation by nature, its use can be seen from the fields of ecology, combustion, crystallization, plasma and adavantageous gene travel [1].\n",
    "$$ \\frac {\\partial u}{\\partial t} - D \\frac{\\partial^2 u}{\\partial^2 x} = f(u)$$\n",
    "Let's take a look at what the equation is built up of,\n",
    "\n",
    "1. It's a 2nd order in space\n",
    "2. It's a 1st order in time\n",
    "3. Composed of one non-linear term - represents kinetics\n",
    "\n",
    "Such equations where reaction kinetics and diffusion are coupled can affect the studied phenomenon faster than the standard diffusion equation. To study some interesting cases, lets start by importing the libraries ...\n"
   ]
  },
  {
   "cell_type": "code",
   "execution_count": null,
   "metadata": {
    "collapsed": false
   },
   "outputs": [],
   "source": [
    "import numpy\n",
    "from matplotlib import pyplot\n",
    "import math\n",
    "%matplotlib inline\n",
    "from matplotlib import rcParams\n",
    "rcParams['font.family'] = 'serif'\n",
    "rcParams['font.size'] =16\n",
    "\n",
    "from matplotlib import animation\n",
    "from IPython.display import HTML"
   ]
  },
  {
   "cell_type": "markdown",
   "metadata": {},
   "source": [
    "### Case 1: Propagation of a Mutant Gene"
   ]
  },
  {
   "cell_type": "markdown",
   "metadata": {},
   "source": [
    "Let us imagine a population of individuals that have a mutant gene with concentration $u$ and a concentration of parent gene to be $1-u$. The individuals in this town diffuse by interacting with each other and having offsprings. Fisher and Kolmogorov (1937) simultaneously came up with a model to describe the spread of this mutation in some or a group of individuals at a specified spatial location through diffusion and natural selection, "
   ]
  },
  {
   "cell_type": "markdown",
   "metadata": {},
   "source": [
    "$$ u_t =D u_{xx} + \\alpha u(1-u)$$  \n",
    "where, D is the measure of how fast the individuals carrying the gene spread, $\\alpha u(1-u)$ represents the kinetics and $\\alpha$ models the utility of a gene growth rate of population with gene -- $\\alpha$ > 0 = advantageous gene while $\\alpha$ < 0 = disadvantageous gene\n",
    "Lets look at the initial and boundary conditions,\n",
    "\n",
    "\\begin{equation}\n",
    "u(x,0)=\\begin{cases}1 & \\text{where } -10\\leq x \\leq -9,\\\\\n",
    "0 & \\text{everywhere else in } (-10, 10)\n",
    "\\end{cases}\n",
    "\\end{equation}\n",
    "\n",
    "$$ u(x,0) = u_o$$\n",
    "\n",
    "Neumann B.C is imposed, which implies that no individuals with the gene leave or enter the shoreline\n",
    "\n",
    "$$ \\frac {\\partial{u}}{ \\partial{n}} = 0 $$\n",
    "\n",
    "We use the forward time and central difference in space to discretize the equation. The central difference is carrried out by using the taylor expressions and ignoring the terms of $4^{th}$ order and higher.\n",
    "\n",
    "Thus the discretized equation becomes,\n",
    "$$ \\frac{u_i^{n+1} - u_i^{n}}{\\Delta t} = \\frac{u_{i+1}^{n} - 2u_i^{n} + u_{i-1}^n}{\\Delta x^2} + \\alpha u_i^n(1-u_i^n)$$\n",
    "\n",
    "So now we already have one inital condition, thus the only unknown is $u_i^{n+1} $ and re-arranging the above equation to get this term on the LHS, we get\n",
    "\n",
    "$$ u_i^{n+1} = \\frac{\\Delta t }{\\Delta x^2} (u_{i+1}^{n} - 2u_i^{n} + u_{i-1}^n) + \\Delta t \\alpha u_i^n(1-u_i^n) +u_i^n$$ "
   ]
  },
  {
   "cell_type": "code",
   "execution_count": null,
   "metadata": {
    "collapsed": false
   },
   "outputs": [],
   "source": [
    "nx =101\n",
    "dx =0.1                                            # Spatial increment\n",
    "dt =0.001                                          # Time increment\n",
    "nt = [0,250,1000,2500,6000]                        #Array of timesteps\n",
    "x = numpy.linspace(-10,10,nx)\n",
    "D =1                                               # Diffusion constant \n",
    "alpha = 1                                          # Utility of gene \n",
    "\n",
    "uo = numpy.zeros(nx)\n",
    "lbound = numpy.where(x <= -9)\n",
    "ubound = numpy.where(x >= -10)            \n",
    "bounds = numpy.intersect1d(lbound, ubound)\n",
    "uo[bounds]=1                                       # Initial waveform"
   ]
  },
  {
   "cell_type": "code",
   "execution_count": null,
   "metadata": {
    "collapsed": true
   },
   "outputs": [],
   "source": [
    "def CatchtheFisherwave(u,nt,dt,dx):\n",
    "    \n",
    "    \"\"\"Returns the concentration of gene mutation in a population:\n",
    "    \n",
    "    Solves the non-linear Fisher equation where \n",
    "    * the diffusion constant is set to 1\n",
    "    * the domain is x \\in [-10, 10]\n",
    "    * An array of timestep from 0 to 2000 are taken, with \\Delta t = 0.001\n",
    "    * the initial data is described in above\n",
    "    \n",
    "    Parameters\n",
    "    ----------\n",
    "    u  : Initial waveform\n",
    "    nt : int - number of time steps\n",
    "    dt : step in temporal scale\n",
    "    dx : step in x direction\n",
    "        \n",
    "    Returns\n",
    "    -------\n",
    "    u = u : array of float\n",
    "        Concentration of mutant gene that has affected the population\n",
    "        1 = entire population over the area has the gene\n",
    "        0 = entire population over the area does not have the gene\n",
    "    \n",
    "    \"\"\"\n",
    "    un= numpy.zeros_like(u)\n",
    "    for n in range (nt):\n",
    "        un= numpy.copy(u)\n",
    "        u[1:-1] = un[1:-1] \\\n",
    "                + D * dt/dx**2 * (un[2:] - 2*un[1:-1] + un[0:-2]) \\\n",
    "                + alpha * un[1:-1] * dt * (1 - un[1:-1])\n",
    "                \n",
    "        u[0]  =  u[1] \n",
    "        u[-1] =  u[-2]\n",
    "        \n",
    "    return u"
   ]
  },
  {
   "cell_type": "code",
   "execution_count": null,
   "metadata": {
    "collapsed": false
   },
   "outputs": [],
   "source": [
    "%run subplot.py # The function to create subplot is called from a .py file\n",
    "sub1.plot(x,uo,lw=2)\n",
    "for n in nt:\n",
    "    u = CatchtheFisherwave(uo,n,dt,dx) # Call to the function using a for loop\n",
    "    sub2.plot(x,u,lw=2, label='t = %s' %n)\n",
    "    pyplot.legend(prop={'size':10}) #legend call to set location and size\n",
    "pyplot.show()"
   ]
  },
  {
   "cell_type": "code",
   "execution_count": null,
   "metadata": {
    "collapsed": false
   },
   "outputs": [],
   "source": [
    "%run Animate_func.py\n",
    "HTML(anim.to_html5_video())"
   ]
  },
  {
   "cell_type": "code",
   "execution_count": null,
   "metadata": {
    "collapsed": true
   },
   "outputs": [],
   "source": []
  },
  {
   "cell_type": "markdown",
   "metadata": {},
   "source": [
    "## References: ##\n",
    "\n",
    "1. https://en.wikipedia.org/wiki/Fisher's_equation\n",
    "2. R. A. Fisher, The wave of advance of advantageous genes, Ann. Eugenics 7 (1937), 353369.\n",
    "3. A. Kolmogorov, I. G. Petrovskii, and N. S. Piskunov, A study of the diffusion equation with increase in the amount of substance, and its application to a biological problem.(translated from Bull. Moscow Univ., Math. Mech. 1, (1937) 1–25).\n",
    "3. Chicone, Carmen. An Invitation to Applied Mathematics Differential Equations, Modeling, and Computation. N.p.: Academic Pr, 2016. Print\n",
    "4. Murray, J. D. \"Biological Waves: Single-Species Models.\" Mathematical Biology: I. An Introduction. New York, NY: Springer New York, 2004. N. pag. Print.\n"
   ]
  },
  {
   "cell_type": "markdown",
   "metadata": {},
   "source": [
    "###### Cell below loads the style for the notebook"
   ]
  },
  {
   "cell_type": "code",
   "execution_count": 1,
   "metadata": {
    "collapsed": false
   },
   "outputs": [
    {
     "data": {
      "text/html": [
       "<link href='http://fonts.googleapis.com/css?family=Alegreya+Sans:100,300,400,500,700,800,900,100italic,300italic,400italic,500italic,700italic,800italic,900italic' rel='stylesheet' type='text/css'>\n",
       "<link href='http://fonts.googleapis.com/css?family=Arvo:400,700,400italic' rel='stylesheet' type='text/css'>\n",
       "<link href='http://fonts.googleapis.com/css?family=PT+Mono' rel='stylesheet' type='text/css'>\n",
       "<link href='http://fonts.googleapis.com/css?family=Shadows+Into+Light' rel='stylesheet' type='text/css'>\n",
       "<link href='http://fonts.googleapis.com/css?family=Nixie+One' rel='stylesheet' type='text/css'>\n",
       "<link href='https://fonts.googleapis.com/css?family=Source+Code+Pro' rel='stylesheet' type='text/css'>\n",
       "<style>\n",
       "\n",
       "@font-face {\n",
       "    font-family: \"Computer Modern\";\n",
       "    src: url('http://mirrors.ctan.org/fonts/cm-unicode/fonts/otf/cmunss.otf');\n",
       "}\n",
       "\n",
       "#notebook_panel { /* main background */\n",
       "    background: rgb(245,245,245);\n",
       "}\n",
       "\n",
       "div.cell { /* set cell width */\n",
       "    width: 750px;\n",
       "}\n",
       "\n",
       "div #notebook { /* centre the content */\n",
       "    background: #fff; /* white background for content */\n",
       "    width: 1000px;\n",
       "    margin: auto;\n",
       "    padding-left: 0em;\n",
       "}\n",
       "\n",
       "#notebook li { /* More space between bullet points */\n",
       "    margin-top:0.8em;\n",
       "}\n",
       "\n",
       "/* draw border around running cells */\n",
       "div.cell.border-box-sizing.code_cell.running { \n",
       "    border: 1px solid #111;\n",
       "}\n",
       "\n",
       "/* Put a solid color box around each cell and its output, visually linking them*/\n",
       "div.cell.code_cell {\n",
       "    background-color: rgb(256,256,256); \n",
       "    border-radius: 0px; \n",
       "    padding: 0.5em;\n",
       "    margin-left:1em;\n",
       "    margin-top: 1em;\n",
       "}\n",
       "\n",
       "div.text_cell_render{\n",
       "    font-family: 'Alegreya Sans' sans-serif;\n",
       "    line-height: 140%;\n",
       "    font-size: 125%;\n",
       "    font-weight: 400;\n",
       "    width:600px;\n",
       "    margin-left:auto;\n",
       "    margin-right:auto;\n",
       "}\n",
       "\n",
       "\n",
       "/* Formatting for header cells */\n",
       ".text_cell_render h1 {\n",
       "    font-family: 'Nixie One', serif;\n",
       "    font-style:regular;\n",
       "    font-weight: 400;    \n",
       "    font-size: 45pt;\n",
       "    line-height: 100%;\n",
       "    color: rgb(0,51,102);\n",
       "    margin-bottom: 0.5em;\n",
       "    margin-top: 0.5em;\n",
       "    display: block;\n",
       "}\n",
       "\n",
       ".text_cell_render h2 {\n",
       "    font-family: 'Nixie One', serif;\n",
       "    font-weight: 400;\n",
       "    font-size: 30pt;\n",
       "    line-height: 100%;\n",
       "    color: rgb(0,51,102);\n",
       "    margin-bottom: 0.1em;\n",
       "    margin-top: 0.3em;\n",
       "    display: block;\n",
       "}\t\n",
       "\n",
       ".text_cell_render h3 {\n",
       "    font-family: 'Nixie One', serif;\n",
       "    margin-top:16px;\n",
       "    font-size: 22pt;\n",
       "    font-weight: 600;\n",
       "    margin-bottom: 3px;\n",
       "    font-style: regular;\n",
       "    color: rgb(102,102,0);\n",
       "}\n",
       "\n",
       ".text_cell_render h4 {    /*Use this for captions*/\n",
       "    font-family: 'Nixie One', serif;\n",
       "    font-size: 14pt;\n",
       "    text-align: center;\n",
       "    margin-top: 0em;\n",
       "    margin-bottom: 2em;\n",
       "    font-style: regular;\n",
       "}\n",
       "\n",
       ".text_cell_render h5 {  /*Use this for small titles*/\n",
       "    font-family: 'Nixie One', sans-serif;\n",
       "    font-weight: 400;\n",
       "    font-size: 16pt;\n",
       "    color: rgb(163,0,0);\n",
       "    font-style: italic;\n",
       "    margin-bottom: .1em;\n",
       "    margin-top: 0.8em;\n",
       "    display: block;\n",
       "}\n",
       "\n",
       ".text_cell_render h6 { /*use this for copyright note*/\n",
       "    font-family: 'PT Mono', sans-serif;\n",
       "    font-weight: 300;\n",
       "    font-size: 9pt;\n",
       "    line-height: 100%;\n",
       "    color: grey;\n",
       "    margin-bottom: 1px;\n",
       "    margin-top: 1px;\n",
       "}\n",
       "\n",
       ".CodeMirror{\n",
       "    font-family: \"Source Code Pro\";\n",
       "    font-size: 90%;\n",
       "}\n",
       "\n",
       ".alert-box {\n",
       "    padding:10px 10px 10px 36px;\n",
       "    margin:5px;\n",
       "}\n",
       "\n",
       ".success {\n",
       "    color:#666600;\n",
       "    background:rgb(240,242,229);\n",
       "}\n",
       "</style>\n",
       "<script>\n",
       "    MathJax.Hub.Config({\n",
       "                        TeX: {\n",
       "                           extensions: [\"AMSmath.js\"],\n",
       "                           equationNumbers: { autoNumber: \"AMS\", useLabelIds: true}\n",
       "                           },\n",
       "                tex2jax: {\n",
       "                    inlineMath: [ ['$','$'], [\"\\\\(\",\"\\\\)\"] ],\n",
       "                    displayMath: [ ['$$','$$'], [\"\\\\[\",\"\\\\]\"] ]\n",
       "                },\n",
       "                displayAlign: 'center', // Change this to 'center' to center equations.\n",
       "                \"HTML-CSS\": {\n",
       "                    styles: {'.MathJax_Display': {\"margin\": 4}}\n",
       "                }\n",
       "        });\n",
       "</script>\n"
      ],
      "text/plain": [
       "<IPython.core.display.HTML object>"
      ]
     },
     "execution_count": 1,
     "metadata": {},
     "output_type": "execute_result"
    }
   ],
   "source": [
    "from IPython.core.display import HTML\n",
    "css_file = 'numericalmoocstyle.css'\n",
    "HTML(open(css_file, \"r\").read())"
   ]
  },
  {
   "cell_type": "code",
   "execution_count": null,
   "metadata": {
    "collapsed": true
   },
   "outputs": [],
   "source": []
  }
 ],
 "metadata": {
  "anaconda-cloud": {},
  "kernelspec": {
   "display_name": "Python [default]",
   "language": "python",
   "name": "python3"
  },
  "language_info": {
   "codemirror_mode": {
    "name": "ipython",
    "version": 3
   },
   "file_extension": ".py",
   "mimetype": "text/x-python",
   "name": "python",
   "nbconvert_exporter": "python",
   "pygments_lexer": "ipython3",
   "version": "3.5.2"
  }
 },
 "nbformat": 4,
 "nbformat_minor": 1
}
