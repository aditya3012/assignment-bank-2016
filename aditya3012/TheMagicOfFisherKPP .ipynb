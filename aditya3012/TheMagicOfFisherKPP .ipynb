{
 "cells": [
  {
   "cell_type": "markdown",
   "metadata": {},
   "source": [
    "###### Content under Creative Commons Attribution license CC-BY 4.0, code under MIT license (c)2016 A.A. Kulkarni"
   ]
  },
  {
   "cell_type": "markdown",
   "metadata": {
    "collapsed": true
   },
   "source": [
    "## \"We need to be appreciated more than ever\" - PDE's"
   ]
  },
  {
   "cell_type": "markdown",
   "metadata": {},
   "source": [
    "   Some may say our prevalence and importance is only to the world of engineering and physics. But have you lately checked out the advances in [biology](https://www.birs.ca/workshops/2015/15w5072/report15w5072.pdf), [economics](http://www.princeton.edu/~moll/PDE_macro.pdf) and real-time stock trading?\n",
    "<img style=\"float: right;\" src=\"tumblr_why.jpg\" width=\"350\" height=\"300\" >\n",
    "\n",
    "Engineers working on a new Bentley, analysts crunching numbers at the New York stock exchange to scientists studying motion of miniscule droplets on a leaf to the formation of gigantic galaxies all rely on PDE's. \n",
    "\n",
    "\n",
    "To romanticize this importance, PDE's can be thought of links between our understanding and things that happen in universe.\n",
    "\n",
    "Credit to Dr Barba and her group, we have had fun with some interesting ordinary and partial differential equations. Right from Module 1 the wheels in our head are turning, and to keep up with that, I asked myself a question, \n",
    "\n",
    "\n",
    "\n",
    "\n",
    "\n"
   ]
  },
  {
   "cell_type": "markdown",
   "metadata": {},
   "source": [
    "#### *** Is there a equation which is at the forefront of not one but many distinct fields? ***"
   ]
  },
  {
   "cell_type": "markdown",
   "metadata": {},
   "source": [
    "## Hello Fisher Kolmogorov equation!"
   ]
  },
  {
   "cell_type": "markdown",
   "metadata": {},
   "source": [
    "A non-linear reaction-diffusion equation by nature, its use can be seen from the fields of ecology, combustion, crystallization, plasma and adavantageous gene travel [1].\n",
    "$$ \\frac {\\partial u}{\\partial t} - D \\frac{\\partial^2 u}{\\partial^2 x} = f(u)$$\n",
    "Let's take a look at what the equation is built up of,\n",
    "\n",
    "1. It's a 2nd order in space\n",
    "2. It's a 1st order in time\n",
    "3. Composed of one non-linear term\n"
   ]
  },
  {
   "cell_type": "code",
   "execution_count": 12,
   "metadata": {
    "collapsed": false
   },
   "outputs": [],
   "source": [
    "import numpy\n",
    "from matplotlib import pyplot\n",
    "import math\n",
    "%matplotlib inline\n",
    "from matplotlib import rcParams\n",
    "rcParams['font.family'] = 'serif'\n",
    "rcParams['font.size'] =16"
   ]
  },
  {
   "cell_type": "code",
   "execution_count": 4,
   "metadata": {
    "collapsed": true
   },
   "outputs": [],
   "source": [
    "nx =101\n",
    "dx =0.1\n",
    "\n",
    "nt =20\n",
    "dt =0.1\n",
    "x = numpy.linspace(-10,10,dx)\n",
    "\n",
    "D =1\n",
    "a = 6"
   ]
  },
  {
   "cell_type": "markdown",
   "metadata": {},
   "source": [
    "$$ u_t =u_{xx} + 6u(1-u)$$  \n",
    "** Lets look at the initial and boundary conditions, **\n",
    "\n",
    "$$ u_o(x)  = \\frac{1}{2} \\tanh(x) + \\frac{1}{2}$$\n",
    "\n",
    "$$ u(x,0) = u_o$$\n",
    "\n",
    "** and the boundary condition is **\n",
    "\n",
    "$$ \\frac {\\partial{u}}{ \\partial{n}} = 0 $$\n",
    "\n",
    "** Thus the discretized equation becomes,**\n",
    "$$ \\frac{u_i^{n+1} - u_i^{n}}{\\Delta t} = \\frac{u_{i+1}^{n} - 2u_i^{n} + u_{i-1}^n}{\\Delta x^2} + \\alpha u_i^n(1-u_i^n)$$\n",
    "\n",
    "So now we already have one inital condition, thus the only unknown is $u_i^{n+1} $ and re-arranging the above equation to get this term on the LHS, we get\n",
    "\n",
    "$$ u_i^{n+1} = \\frac{\\Delta t }{\\Delta x^2} (u_{i+1}^{n} - 2u_i^{n} + u_{i-1}^n) + \\Delta t \\alpha u_i^n(1-u_i^n) +u_i^n$$ "
   ]
  },
  {
   "cell_type": "code",
   "execution_count": 13,
   "metadata": {
    "collapsed": true
   },
   "outputs": [],
   "source": [
    "def CatchtheFisherwave(nx,dt,dx):\n",
    "    \n",
    "    \"\"\"Solve the linear convection equation.\n",
    "    \n",
    "    Solves the equation d_t u + c d_x u = 0 where \n",
    "    * the diffusion constant is set to 1\n",
    "    * the domain is x \\in [0, 10]\n",
    "    * 20 timesteps are taken, with \\Delta t = 0.1\n",
    "    * the initial data is described in above\n",
    "    \n",
    "    Parameters\n",
    "    ----------\n",
    "    nx : integer\n",
    "        number of internal grid points\n",
    "    dt : difference in each timestep\n",
    "        \n",
    "    Returns\n",
    "    -------\n",
    "    \n",
    "    \n",
    "    \"\"\"\n",
    "    \n",
    "    u = numpy.zeros(nx)\n",
    "    un= numpy.copy(u)\n",
    "    u[0] = 1/2 * math.tanh(x) + 1/2\n",
    "    for n in range (nt):\n",
    "        u[1:-1] = un[1:-1] \\\n",
    "                + D * dt/dx**2 * (un[2:] - 2*un[1:-1] + un[0:-2]) \\\n",
    "                + alpha * u[1:-1] * dt * (1 - u[1:-1])\n",
    "                \n",
    "        u[-1] = u[-2]\n",
    "        \n",
    "    return u"
   ]
  },
  {
   "cell_type": "code",
   "execution_count": 14,
   "metadata": {
    "collapsed": false
   },
   "outputs": [
    {
     "ename": "TypeError",
     "evalue": "only length-1 arrays can be converted to Python scalars",
     "output_type": "error",
     "traceback": [
      "\u001b[0;31m---------------------------------------------------------------------------\u001b[0m",
      "\u001b[0;31mTypeError\u001b[0m                                 Traceback (most recent call last)",
      "\u001b[0;32m<ipython-input-14-9f5295535a5f>\u001b[0m in \u001b[0;36m<module>\u001b[0;34m()\u001b[0m\n\u001b[0;32m----> 1\u001b[0;31m \u001b[0mu_final\u001b[0m \u001b[0;34m=\u001b[0m \u001b[0mCatchtheFisherwave\u001b[0m\u001b[0;34m(\u001b[0m\u001b[0mnx\u001b[0m\u001b[0;34m,\u001b[0m\u001b[0mdt\u001b[0m\u001b[0;34m,\u001b[0m\u001b[0mdx\u001b[0m\u001b[0;34m)\u001b[0m\u001b[0;34m\u001b[0m\u001b[0m\n\u001b[0m\u001b[1;32m      2\u001b[0m \u001b[0;34m\u001b[0m\u001b[0m\n\u001b[1;32m      3\u001b[0m \u001b[0mplot\u001b[0m\u001b[0;34m(\u001b[0m\u001b[0mu\u001b[0m\u001b[0;34m,\u001b[0m\u001b[0mx\u001b[0m\u001b[0;34m)\u001b[0m\u001b[0;34m\u001b[0m\u001b[0m\n",
      "\u001b[0;32m<ipython-input-13-3a48aff5f214>\u001b[0m in \u001b[0;36mCatchtheFisherwave\u001b[0;34m(nx, dt, dx)\u001b[0m\n\u001b[1;32m     23\u001b[0m     \u001b[0mu\u001b[0m \u001b[0;34m=\u001b[0m \u001b[0mnumpy\u001b[0m\u001b[0;34m.\u001b[0m\u001b[0mzeros\u001b[0m\u001b[0;34m(\u001b[0m\u001b[0mnx\u001b[0m\u001b[0;34m)\u001b[0m\u001b[0;34m\u001b[0m\u001b[0m\n\u001b[1;32m     24\u001b[0m     \u001b[0mun\u001b[0m\u001b[0;34m=\u001b[0m \u001b[0mnumpy\u001b[0m\u001b[0;34m.\u001b[0m\u001b[0mcopy\u001b[0m\u001b[0;34m(\u001b[0m\u001b[0mu\u001b[0m\u001b[0;34m)\u001b[0m\u001b[0;34m\u001b[0m\u001b[0m\n\u001b[0;32m---> 25\u001b[0;31m     \u001b[0mu\u001b[0m\u001b[0;34m[\u001b[0m\u001b[0;36m0\u001b[0m\u001b[0;34m]\u001b[0m \u001b[0;34m=\u001b[0m \u001b[0;36m1\u001b[0m\u001b[0;34m/\u001b[0m\u001b[0;36m2\u001b[0m \u001b[0;34m*\u001b[0m \u001b[0mmath\u001b[0m\u001b[0;34m.\u001b[0m\u001b[0mtanh\u001b[0m\u001b[0;34m(\u001b[0m\u001b[0mx\u001b[0m\u001b[0;34m)\u001b[0m \u001b[0;34m+\u001b[0m \u001b[0;36m1\u001b[0m\u001b[0;34m/\u001b[0m\u001b[0;36m2\u001b[0m\u001b[0;34m\u001b[0m\u001b[0m\n\u001b[0m\u001b[1;32m     26\u001b[0m     \u001b[0;32mfor\u001b[0m \u001b[0mn\u001b[0m \u001b[0;32min\u001b[0m \u001b[0mrange\u001b[0m \u001b[0;34m(\u001b[0m\u001b[0mnt\u001b[0m\u001b[0;34m)\u001b[0m\u001b[0;34m:\u001b[0m\u001b[0;34m\u001b[0m\u001b[0m\n\u001b[1;32m     27\u001b[0m         \u001b[0mu\u001b[0m\u001b[0;34m[\u001b[0m\u001b[0;36m1\u001b[0m\u001b[0;34m:\u001b[0m\u001b[0;34m-\u001b[0m\u001b[0;36m1\u001b[0m\u001b[0;34m]\u001b[0m \u001b[0;34m=\u001b[0m \u001b[0mun\u001b[0m\u001b[0;34m[\u001b[0m\u001b[0;36m1\u001b[0m\u001b[0;34m:\u001b[0m\u001b[0;34m-\u001b[0m\u001b[0;36m1\u001b[0m\u001b[0;34m]\u001b[0m                 \u001b[0;34m+\u001b[0m \u001b[0mD\u001b[0m \u001b[0;34m*\u001b[0m \u001b[0mdt\u001b[0m\u001b[0;34m/\u001b[0m\u001b[0mdx\u001b[0m\u001b[0;34m**\u001b[0m\u001b[0;36m2\u001b[0m \u001b[0;34m*\u001b[0m \u001b[0;34m(\u001b[0m\u001b[0mun\u001b[0m\u001b[0;34m[\u001b[0m\u001b[0;36m2\u001b[0m\u001b[0;34m:\u001b[0m\u001b[0;34m]\u001b[0m \u001b[0;34m-\u001b[0m \u001b[0;36m2\u001b[0m\u001b[0;34m*\u001b[0m\u001b[0mun\u001b[0m\u001b[0;34m[\u001b[0m\u001b[0;36m1\u001b[0m\u001b[0;34m:\u001b[0m\u001b[0;34m-\u001b[0m\u001b[0;36m1\u001b[0m\u001b[0;34m]\u001b[0m \u001b[0;34m+\u001b[0m \u001b[0mun\u001b[0m\u001b[0;34m[\u001b[0m\u001b[0;36m0\u001b[0m\u001b[0;34m:\u001b[0m\u001b[0;34m-\u001b[0m\u001b[0;36m2\u001b[0m\u001b[0;34m]\u001b[0m\u001b[0;34m)\u001b[0m                 \u001b[0;34m+\u001b[0m \u001b[0malpha\u001b[0m \u001b[0;34m*\u001b[0m \u001b[0mu\u001b[0m\u001b[0;34m[\u001b[0m\u001b[0;36m1\u001b[0m\u001b[0;34m:\u001b[0m\u001b[0;34m-\u001b[0m\u001b[0;36m1\u001b[0m\u001b[0;34m]\u001b[0m \u001b[0;34m*\u001b[0m \u001b[0mdt\u001b[0m \u001b[0;34m*\u001b[0m \u001b[0;34m(\u001b[0m\u001b[0;36m1\u001b[0m \u001b[0;34m-\u001b[0m \u001b[0mu\u001b[0m\u001b[0;34m[\u001b[0m\u001b[0;36m1\u001b[0m\u001b[0;34m:\u001b[0m\u001b[0;34m-\u001b[0m\u001b[0;36m1\u001b[0m\u001b[0;34m]\u001b[0m\u001b[0;34m)\u001b[0m\u001b[0;34m\u001b[0m\u001b[0m\n",
      "\u001b[0;31mTypeError\u001b[0m: only length-1 arrays can be converted to Python scalars"
     ]
    }
   ],
   "source": [
    "u_final = CatchtheFisherwave(nx,dt,dx)\n",
    "\n",
    "plot(u,x)"
   ]
  },
  {
   "cell_type": "markdown",
   "metadata": {},
   "source": [
    "## References: ##\n",
    "\n",
    "1. https://en.wikipedia.org/wiki/Fisher's_equation\n",
    "\n"
   ]
  },
  {
   "cell_type": "markdown",
   "metadata": {},
   "source": [
    "###### Cell below loads the style for the notebook"
   ]
  },
  {
   "cell_type": "code",
   "execution_count": null,
   "metadata": {
    "collapsed": false
   },
   "outputs": [],
   "source": [
    "from IPython.core.display import HTML\n",
    "css_file = 'style_kulkarni2.css'\n",
    "HTML(open(css_file, \"r\").read())"
   ]
  },
  {
   "cell_type": "code",
   "execution_count": null,
   "metadata": {
    "collapsed": true
   },
   "outputs": [],
   "source": []
  }
 ],
 "metadata": {
  "anaconda-cloud": {},
  "kernelspec": {
   "display_name": "Python [default]",
   "language": "python",
   "name": "python3"
  },
  "language_info": {
   "codemirror_mode": {
    "name": "ipython",
    "version": 3
   },
   "file_extension": ".py",
   "mimetype": "text/x-python",
   "name": "python",
   "nbconvert_exporter": "python",
   "pygments_lexer": "ipython3",
   "version": "3.5.2"
  }
 },
 "nbformat": 4,
 "nbformat_minor": 1
}
